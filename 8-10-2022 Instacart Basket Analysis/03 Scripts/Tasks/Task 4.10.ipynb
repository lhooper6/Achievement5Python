{
 "cells": [
  {
   "cell_type": "markdown",
   "id": "1c564a23",
   "metadata": {},
   "source": [
    "# Task 4.10"
   ]
  },
  {
   "cell_type": "markdown",
   "id": "51d666dd",
   "metadata": {},
   "source": [
    "### Contents\n",
    "    1. Import Libraries/ Data\n",
    "    2. Consider Security Implications\n",
    "    3. Compare Customer Behavior In Different Regions\n",
    "    4. Create Low order Number Flag\n",
    "    5. Create Customer Profiles\n",
    "        5.1 Age Profile\n",
    "        5.2 Income profile\n",
    "        5.3 Dependants Profile\n",
    "        5.4 Alcohol Profile\n",
    "        5.5 Baby Profile\n",
    "        5.6 Pet Profile\n",
    "    6. Create Visuals For Profiles\n",
    "        6.1 Income Distribution Histogram\n",
    "        6.2 Age and Income Line Graph\n",
    "        6.3 Age and Income of Pet Owners\n",
    "        6.4 Age and Income of Alcohol Consumers\n",
    "        6.5 Family Status of Baby Consumers\n",
    "        6.6 Number of Dependants for Baby Aisle Consumers\n",
    "        6.7 Family Status of Baby Aisle Consumers \n",
    "        6.8 Gender of Pet Aisle Consumers\n",
    "    7. Aggregating Profiles for Usage\n",
    "        7.1 Age Profile Aggregation\n",
    "        7.2 Income Profile Aggregation\n",
    "        7.3 Dependants Profile Aggregation\n",
    "        7.4 Alcohol Profile Aggregation\n",
    "        7.5 Pet Profile Aggregation\n",
    "        7.6 Baby Profile Aggregation\n",
    "     8. Compare Profiles with Regions\n",
    "        8.1 Age Profile in Each Region\n",
    "        8.2 Income in Each Region\n",
    "        8.3 Dependants in Each Region\n",
    "        8.4 Alcohol Consumers in Each Region\n",
    "        8.5 Baby Profile in Each Region\n",
    "        8.6 Baby Profile in Each Region\n",
    "     9. Export Visuals \n",
    "     10. Export Final Data"
   ]
  },
  {
   "cell_type": "markdown",
   "id": "123ffd0e",
   "metadata": {},
   "source": [
    "# 1. Import Libraries and Data"
   ]
  },
  {
   "cell_type": "code",
   "execution_count": 3,
   "id": "b64fde59",
   "metadata": {},
   "outputs": [],
   "source": [
    "# 1 Import Libraries\n",
    "import pandas as pd\n",
    "import numpy as np\n",
    "import os\n",
    "import matplotlib.pyplot as plt\n",
    "import seaborn as sns\n",
    "import scipy"
   ]
  },
  {
   "cell_type": "code",
   "execution_count": 4,
   "id": "4930a965",
   "metadata": {},
   "outputs": [],
   "source": [
    "# 1 Import Data: Create Path\n",
    "path = r'C:\\Users\\419182\\8-10-2022 Instacart Basket Analysis'"
   ]
  },
  {
   "cell_type": "code",
   "execution_count": 5,
   "id": "ca5f419c",
   "metadata": {},
   "outputs": [],
   "source": [
    "# 1 Import Data\n",
    "All_data = pd.read_pickle(os.path.join(path, '02 Data', 'Prepared Data', 'All_data.pkl'))"
   ]
  },
  {
   "cell_type": "markdown",
   "id": "506d0057",
   "metadata": {},
   "source": [
    "# 2 Security Implications"
   ]
  },
  {
   "cell_type": "code",
   "execution_count": 4,
   "id": "491b2f6c",
   "metadata": {},
   "outputs": [
    {
     "data": {
      "text/html": [
       "<div>\n",
       "<style scoped>\n",
       "    .dataframe tbody tr th:only-of-type {\n",
       "        vertical-align: middle;\n",
       "    }\n",
       "\n",
       "    .dataframe tbody tr th {\n",
       "        vertical-align: top;\n",
       "    }\n",
       "\n",
       "    .dataframe thead th {\n",
       "        text-align: right;\n",
       "    }\n",
       "</style>\n",
       "<table border=\"1\" class=\"dataframe\">\n",
       "  <thead>\n",
       "    <tr style=\"text-align: right;\">\n",
       "      <th></th>\n",
       "      <th>user_id</th>\n",
       "      <th>Gender</th>\n",
       "      <th>STATE</th>\n",
       "      <th>Age</th>\n",
       "      <th>date_joined</th>\n",
       "      <th>number_dependants</th>\n",
       "      <th>fam_status</th>\n",
       "      <th>income</th>\n",
       "      <th>Unnamed: 0_x</th>\n",
       "      <th>product_id</th>\n",
       "      <th>...</th>\n",
       "      <th>busiest_period_of_day</th>\n",
       "      <th>price_range</th>\n",
       "      <th>price_label</th>\n",
       "      <th>max_order</th>\n",
       "      <th>loyalty_flag</th>\n",
       "      <th>mean_order</th>\n",
       "      <th>spending_flag</th>\n",
       "      <th>median_days_since_prior_order</th>\n",
       "      <th>Frequency_flag</th>\n",
       "      <th>True</th>\n",
       "    </tr>\n",
       "  </thead>\n",
       "  <tbody>\n",
       "    <tr>\n",
       "      <th>0</th>\n",
       "      <td>26711</td>\n",
       "      <td>Female</td>\n",
       "      <td>Missouri</td>\n",
       "      <td>48</td>\n",
       "      <td>1/1/2017</td>\n",
       "      <td>3</td>\n",
       "      <td>married</td>\n",
       "      <td>165665</td>\n",
       "      <td>195</td>\n",
       "      <td>196</td>\n",
       "      <td>...</td>\n",
       "      <td>Most Orders</td>\n",
       "      <td>Mid-range product</td>\n",
       "      <td>Mid-range product</td>\n",
       "      <td>8</td>\n",
       "      <td>New customer</td>\n",
       "      <td>7.988889</td>\n",
       "      <td>Low spender</td>\n",
       "      <td>19.0</td>\n",
       "      <td>Regular customer</td>\n",
       "      <td>both</td>\n",
       "    </tr>\n",
       "    <tr>\n",
       "      <th>1</th>\n",
       "      <td>26711</td>\n",
       "      <td>Female</td>\n",
       "      <td>Missouri</td>\n",
       "      <td>48</td>\n",
       "      <td>1/1/2017</td>\n",
       "      <td>3</td>\n",
       "      <td>married</td>\n",
       "      <td>165665</td>\n",
       "      <td>195</td>\n",
       "      <td>196</td>\n",
       "      <td>...</td>\n",
       "      <td>Most Orders</td>\n",
       "      <td>Mid-range product</td>\n",
       "      <td>Mid-range product</td>\n",
       "      <td>8</td>\n",
       "      <td>New customer</td>\n",
       "      <td>7.988889</td>\n",
       "      <td>Low spender</td>\n",
       "      <td>19.0</td>\n",
       "      <td>Regular customer</td>\n",
       "      <td>both</td>\n",
       "    </tr>\n",
       "    <tr>\n",
       "      <th>2</th>\n",
       "      <td>26711</td>\n",
       "      <td>Female</td>\n",
       "      <td>Missouri</td>\n",
       "      <td>48</td>\n",
       "      <td>1/1/2017</td>\n",
       "      <td>3</td>\n",
       "      <td>married</td>\n",
       "      <td>165665</td>\n",
       "      <td>195</td>\n",
       "      <td>196</td>\n",
       "      <td>...</td>\n",
       "      <td>Most Orders</td>\n",
       "      <td>Mid-range product</td>\n",
       "      <td>Mid-range product</td>\n",
       "      <td>8</td>\n",
       "      <td>New customer</td>\n",
       "      <td>7.988889</td>\n",
       "      <td>Low spender</td>\n",
       "      <td>19.0</td>\n",
       "      <td>Regular customer</td>\n",
       "      <td>both</td>\n",
       "    </tr>\n",
       "    <tr>\n",
       "      <th>3</th>\n",
       "      <td>26711</td>\n",
       "      <td>Female</td>\n",
       "      <td>Missouri</td>\n",
       "      <td>48</td>\n",
       "      <td>1/1/2017</td>\n",
       "      <td>3</td>\n",
       "      <td>married</td>\n",
       "      <td>165665</td>\n",
       "      <td>6184</td>\n",
       "      <td>6184</td>\n",
       "      <td>...</td>\n",
       "      <td>Most Orders</td>\n",
       "      <td>Low-range product</td>\n",
       "      <td>Low-range product</td>\n",
       "      <td>8</td>\n",
       "      <td>New customer</td>\n",
       "      <td>7.988889</td>\n",
       "      <td>Low spender</td>\n",
       "      <td>19.0</td>\n",
       "      <td>Regular customer</td>\n",
       "      <td>both</td>\n",
       "    </tr>\n",
       "    <tr>\n",
       "      <th>4</th>\n",
       "      <td>26711</td>\n",
       "      <td>Female</td>\n",
       "      <td>Missouri</td>\n",
       "      <td>48</td>\n",
       "      <td>1/1/2017</td>\n",
       "      <td>3</td>\n",
       "      <td>married</td>\n",
       "      <td>165665</td>\n",
       "      <td>6184</td>\n",
       "      <td>6184</td>\n",
       "      <td>...</td>\n",
       "      <td>Most Orders</td>\n",
       "      <td>Low-range product</td>\n",
       "      <td>Low-range product</td>\n",
       "      <td>8</td>\n",
       "      <td>New customer</td>\n",
       "      <td>7.988889</td>\n",
       "      <td>Low spender</td>\n",
       "      <td>19.0</td>\n",
       "      <td>Regular customer</td>\n",
       "      <td>both</td>\n",
       "    </tr>\n",
       "    <tr>\n",
       "      <th>5</th>\n",
       "      <td>26711</td>\n",
       "      <td>Female</td>\n",
       "      <td>Missouri</td>\n",
       "      <td>48</td>\n",
       "      <td>1/1/2017</td>\n",
       "      <td>3</td>\n",
       "      <td>married</td>\n",
       "      <td>165665</td>\n",
       "      <td>6184</td>\n",
       "      <td>6184</td>\n",
       "      <td>...</td>\n",
       "      <td>Average Orders</td>\n",
       "      <td>Low-range product</td>\n",
       "      <td>Low-range product</td>\n",
       "      <td>8</td>\n",
       "      <td>New customer</td>\n",
       "      <td>7.988889</td>\n",
       "      <td>Low spender</td>\n",
       "      <td>19.0</td>\n",
       "      <td>Regular customer</td>\n",
       "      <td>both</td>\n",
       "    </tr>\n",
       "    <tr>\n",
       "      <th>6</th>\n",
       "      <td>26711</td>\n",
       "      <td>Female</td>\n",
       "      <td>Missouri</td>\n",
       "      <td>48</td>\n",
       "      <td>1/1/2017</td>\n",
       "      <td>3</td>\n",
       "      <td>married</td>\n",
       "      <td>165665</td>\n",
       "      <td>6184</td>\n",
       "      <td>6184</td>\n",
       "      <td>...</td>\n",
       "      <td>Most Orders</td>\n",
       "      <td>Low-range product</td>\n",
       "      <td>Low-range product</td>\n",
       "      <td>8</td>\n",
       "      <td>New customer</td>\n",
       "      <td>7.988889</td>\n",
       "      <td>Low spender</td>\n",
       "      <td>19.0</td>\n",
       "      <td>Regular customer</td>\n",
       "      <td>both</td>\n",
       "    </tr>\n",
       "    <tr>\n",
       "      <th>7</th>\n",
       "      <td>26711</td>\n",
       "      <td>Female</td>\n",
       "      <td>Missouri</td>\n",
       "      <td>48</td>\n",
       "      <td>1/1/2017</td>\n",
       "      <td>3</td>\n",
       "      <td>married</td>\n",
       "      <td>165665</td>\n",
       "      <td>6184</td>\n",
       "      <td>6184</td>\n",
       "      <td>...</td>\n",
       "      <td>Average Orders</td>\n",
       "      <td>Low-range product</td>\n",
       "      <td>Low-range product</td>\n",
       "      <td>8</td>\n",
       "      <td>New customer</td>\n",
       "      <td>7.988889</td>\n",
       "      <td>Low spender</td>\n",
       "      <td>19.0</td>\n",
       "      <td>Regular customer</td>\n",
       "      <td>both</td>\n",
       "    </tr>\n",
       "    <tr>\n",
       "      <th>8</th>\n",
       "      <td>26711</td>\n",
       "      <td>Female</td>\n",
       "      <td>Missouri</td>\n",
       "      <td>48</td>\n",
       "      <td>1/1/2017</td>\n",
       "      <td>3</td>\n",
       "      <td>married</td>\n",
       "      <td>165665</td>\n",
       "      <td>6184</td>\n",
       "      <td>6184</td>\n",
       "      <td>...</td>\n",
       "      <td>Most Orders</td>\n",
       "      <td>Low-range product</td>\n",
       "      <td>Low-range product</td>\n",
       "      <td>8</td>\n",
       "      <td>New customer</td>\n",
       "      <td>7.988889</td>\n",
       "      <td>Low spender</td>\n",
       "      <td>19.0</td>\n",
       "      <td>Regular customer</td>\n",
       "      <td>both</td>\n",
       "    </tr>\n",
       "    <tr>\n",
       "      <th>9</th>\n",
       "      <td>26711</td>\n",
       "      <td>Female</td>\n",
       "      <td>Missouri</td>\n",
       "      <td>48</td>\n",
       "      <td>1/1/2017</td>\n",
       "      <td>3</td>\n",
       "      <td>married</td>\n",
       "      <td>165665</td>\n",
       "      <td>6184</td>\n",
       "      <td>6184</td>\n",
       "      <td>...</td>\n",
       "      <td>Most Orders</td>\n",
       "      <td>Low-range product</td>\n",
       "      <td>Low-range product</td>\n",
       "      <td>8</td>\n",
       "      <td>New customer</td>\n",
       "      <td>7.988889</td>\n",
       "      <td>Low spender</td>\n",
       "      <td>19.0</td>\n",
       "      <td>Regular customer</td>\n",
       "      <td>both</td>\n",
       "    </tr>\n",
       "  </tbody>\n",
       "</table>\n",
       "<p>10 rows × 39 columns</p>\n",
       "</div>"
      ],
      "text/plain": [
       "  user_id  Gender     STATE  Age date_joined  number_dependants fam_status  \\\n",
       "0   26711  Female  Missouri   48    1/1/2017                  3    married   \n",
       "1   26711  Female  Missouri   48    1/1/2017                  3    married   \n",
       "2   26711  Female  Missouri   48    1/1/2017                  3    married   \n",
       "3   26711  Female  Missouri   48    1/1/2017                  3    married   \n",
       "4   26711  Female  Missouri   48    1/1/2017                  3    married   \n",
       "5   26711  Female  Missouri   48    1/1/2017                  3    married   \n",
       "6   26711  Female  Missouri   48    1/1/2017                  3    married   \n",
       "7   26711  Female  Missouri   48    1/1/2017                  3    married   \n",
       "8   26711  Female  Missouri   48    1/1/2017                  3    married   \n",
       "9   26711  Female  Missouri   48    1/1/2017                  3    married   \n",
       "\n",
       "   income  Unnamed: 0_x  product_id  ... busiest_period_of_day  \\\n",
       "0  165665           195         196  ...           Most Orders   \n",
       "1  165665           195         196  ...           Most Orders   \n",
       "2  165665           195         196  ...           Most Orders   \n",
       "3  165665          6184        6184  ...           Most Orders   \n",
       "4  165665          6184        6184  ...           Most Orders   \n",
       "5  165665          6184        6184  ...        Average Orders   \n",
       "6  165665          6184        6184  ...           Most Orders   \n",
       "7  165665          6184        6184  ...        Average Orders   \n",
       "8  165665          6184        6184  ...           Most Orders   \n",
       "9  165665          6184        6184  ...           Most Orders   \n",
       "\n",
       "         price_range        price_label  max_order  loyalty_flag  mean_order  \\\n",
       "0  Mid-range product  Mid-range product          8  New customer    7.988889   \n",
       "1  Mid-range product  Mid-range product          8  New customer    7.988889   \n",
       "2  Mid-range product  Mid-range product          8  New customer    7.988889   \n",
       "3  Low-range product  Low-range product          8  New customer    7.988889   \n",
       "4  Low-range product  Low-range product          8  New customer    7.988889   \n",
       "5  Low-range product  Low-range product          8  New customer    7.988889   \n",
       "6  Low-range product  Low-range product          8  New customer    7.988889   \n",
       "7  Low-range product  Low-range product          8  New customer    7.988889   \n",
       "8  Low-range product  Low-range product          8  New customer    7.988889   \n",
       "9  Low-range product  Low-range product          8  New customer    7.988889   \n",
       "\n",
       "   spending_flag median_days_since_prior_order    Frequency_flag  True  \n",
       "0    Low spender                          19.0  Regular customer  both  \n",
       "1    Low spender                          19.0  Regular customer  both  \n",
       "2    Low spender                          19.0  Regular customer  both  \n",
       "3    Low spender                          19.0  Regular customer  both  \n",
       "4    Low spender                          19.0  Regular customer  both  \n",
       "5    Low spender                          19.0  Regular customer  both  \n",
       "6    Low spender                          19.0  Regular customer  both  \n",
       "7    Low spender                          19.0  Regular customer  both  \n",
       "8    Low spender                          19.0  Regular customer  both  \n",
       "9    Low spender                          19.0  Regular customer  both  \n",
       "\n",
       "[10 rows x 39 columns]"
      ]
     },
     "execution_count": 4,
     "metadata": {},
     "output_type": "execute_result"
    }
   ],
   "source": [
    "# 2 Consider any security implications\n",
    "All_data.head(10)"
   ]
  },
  {
   "cell_type": "markdown",
   "id": "b9305608",
   "metadata": {},
   "source": [
    "I beleive the only PII of concern would be the User_ids in the data.  They could potentially be traced back to a single individual, but not through this data set because the names have been removed. "
   ]
  },
  {
   "cell_type": "code",
   "execution_count": 5,
   "id": "1c2c094e",
   "metadata": {},
   "outputs": [
    {
     "data": {
      "text/plain": [
       "Index(['user_id', 'Gender', 'STATE', 'Age', 'date_joined', 'number_dependants',\n",
       "       'fam_status', 'income', 'Unnamed: 0_x', 'product_id', 'product_name',\n",
       "       'aisle_id', 'department_id', 'prices', 'Unnamed: 0_y', 'Unnamed: 0.1',\n",
       "       'order_id', 'evaluation_set', 'order_number', 'order_dow',\n",
       "       'order_hour_of_day', 'days_since_prior_order', 'prior_order',\n",
       "       'add_to_cart_order', 'reordered', '_merge', 'exists', 'busiest_day',\n",
       "       'busiest_days', 'busiest_period_of_day', 'price_range', 'price_label',\n",
       "       'max_order', 'loyalty_flag', 'mean_order', 'spending_flag',\n",
       "       'median_days_since_prior_order', 'Frequency_flag', 'True'],\n",
       "      dtype='object')"
      ]
     },
     "execution_count": 5,
     "metadata": {},
     "output_type": "execute_result"
    }
   ],
   "source": [
    "# Check Columns\n",
    "All_data.columns"
   ]
  },
  {
   "cell_type": "markdown",
   "id": "28bf8f4c",
   "metadata": {},
   "source": [
    "# 3 Compare Customer behavior in different regions"
   ]
  },
  {
   "cell_type": "code",
   "execution_count": 6,
   "id": "fd248a2c",
   "metadata": {},
   "outputs": [],
   "source": [
    "# 3 Create a List of Different Regions\n",
    "Northeast=['Maine','New Hampshire','Vermont','Massachusetts','Rhode Island','Connecticut','New York','Pennsylvania','New Jersey']\n",
    "Midwest=['Wisconsin','Michigan','Illinois','Indiana','Ohio','North Dakota','South Dakota','Nebraska','Kansas','Minnesota','Iowa','Missouri']\n",
    "South=['Delaware','Maryland','District of Columbia','Virginia','West Virginia','North Carolina','South Carolina','Georgia','Florida','Kentucky', 'Tennessee','Mississippi','Alabama','Oklahoma','Texas','Arkansas','Louisiana']\n",
    "West=['Idaho','Montana','Wyoming','Nevada','Utah','Colorado','Arizona','New Mexico','Alaska','Washington','Oregon','California','Hawaii']"
   ]
  },
  {
   "cell_type": "code",
   "execution_count": 7,
   "id": "cc20e7b5",
   "metadata": {},
   "outputs": [],
   "source": [
    "# Create the Flags for Each \n",
    "All_data.loc[All_data['STATE'].isin(Northeast), 'Region'] = 'Northeast'"
   ]
  },
  {
   "cell_type": "code",
   "execution_count": 8,
   "id": "c7540cdd",
   "metadata": {},
   "outputs": [],
   "source": [
    "All_data.loc[All_data['STATE'].isin(Midwest), 'Region'] = 'Midwest'"
   ]
  },
  {
   "cell_type": "code",
   "execution_count": 9,
   "id": "b74e522a",
   "metadata": {},
   "outputs": [],
   "source": [
    "All_data.loc[All_data['STATE'].isin(South), 'Region'] = 'South'"
   ]
  },
  {
   "cell_type": "code",
   "execution_count": 10,
   "id": "ca72ab56",
   "metadata": {},
   "outputs": [],
   "source": [
    "All_data.loc[All_data['STATE'].isin(West), 'Region'] = 'West'"
   ]
  },
  {
   "cell_type": "code",
   "execution_count": 11,
   "id": "5a823d46",
   "metadata": {},
   "outputs": [
    {
     "data": {
      "text/plain": [
       "South        10791885\n",
       "West          8292913\n",
       "Midwest       7597325\n",
       "Northeast     5722736\n",
       "Name: Region, dtype: int64"
      ]
     },
     "execution_count": 11,
     "metadata": {},
     "output_type": "execute_result"
    }
   ],
   "source": [
    "# Check Regions \n",
    "All_data['Region'].value_counts()"
   ]
  },
  {
   "cell_type": "code",
   "execution_count": 12,
   "id": "839c6ae0",
   "metadata": {},
   "outputs": [],
   "source": [
    "# Cross Tab with spending flag to understand regional spending \n",
    "crosstab = pd.crosstab(All_data['Region'], All_data['spending_flag'], dropna = False)"
   ]
  },
  {
   "cell_type": "code",
   "execution_count": 13,
   "id": "b560daa2",
   "metadata": {},
   "outputs": [
    {
     "data": {
      "text/html": [
       "<div>\n",
       "<style scoped>\n",
       "    .dataframe tbody tr th:only-of-type {\n",
       "        vertical-align: middle;\n",
       "    }\n",
       "\n",
       "    .dataframe tbody tr th {\n",
       "        vertical-align: top;\n",
       "    }\n",
       "\n",
       "    .dataframe thead th {\n",
       "        text-align: right;\n",
       "    }\n",
       "</style>\n",
       "<table border=\"1\" class=\"dataframe\">\n",
       "  <thead>\n",
       "    <tr style=\"text-align: right;\">\n",
       "      <th>spending_flag</th>\n",
       "      <th>High spender</th>\n",
       "      <th>Low spender</th>\n",
       "    </tr>\n",
       "    <tr>\n",
       "      <th>Region</th>\n",
       "      <th></th>\n",
       "      <th></th>\n",
       "    </tr>\n",
       "  </thead>\n",
       "  <tbody>\n",
       "    <tr>\n",
       "      <th>Midwest</th>\n",
       "      <td>155975</td>\n",
       "      <td>7441350</td>\n",
       "    </tr>\n",
       "    <tr>\n",
       "      <th>Northeast</th>\n",
       "      <td>108225</td>\n",
       "      <td>5614511</td>\n",
       "    </tr>\n",
       "    <tr>\n",
       "      <th>South</th>\n",
       "      <td>209691</td>\n",
       "      <td>10582194</td>\n",
       "    </tr>\n",
       "    <tr>\n",
       "      <th>West</th>\n",
       "      <td>160354</td>\n",
       "      <td>8132559</td>\n",
       "    </tr>\n",
       "  </tbody>\n",
       "</table>\n",
       "</div>"
      ],
      "text/plain": [
       "spending_flag  High spender  Low spender\n",
       "Region                                  \n",
       "Midwest              155975      7441350\n",
       "Northeast            108225      5614511\n",
       "South                209691     10582194\n",
       "West                 160354      8132559"
      ]
     },
     "execution_count": 13,
     "metadata": {},
     "output_type": "execute_result"
    }
   ],
   "source": [
    "# View\n",
    "crosstab"
   ]
  },
  {
   "cell_type": "markdown",
   "id": "b19b9f36",
   "metadata": {},
   "source": [
    "Based on the above cross tab, the South has the most high spenders. It is also important to note that the south has the most low spenders as well.  The west has more high spenders than the Midwest and Northeast.  There are differences in the spenidng habits of regions. "
   ]
  },
  {
   "cell_type": "markdown",
   "id": "ca47250e",
   "metadata": {},
   "source": [
    "# 4 Create Low Order Number Flag"
   ]
  },
  {
   "cell_type": "code",
   "execution_count": 14,
   "id": "c5e834b2",
   "metadata": {},
   "outputs": [],
   "source": [
    "# Create Flags for Each (Less than 5 Low, more than 5 'Normal')\n",
    "All_data.loc[All_data['max_order']>=5, 'Activity'] = 'Normal'"
   ]
  },
  {
   "cell_type": "code",
   "execution_count": 15,
   "id": "c6e181bc",
   "metadata": {},
   "outputs": [],
   "source": [
    "All_data.loc[All_data['max_order']<5, 'Activity'] = 'Low'"
   ]
  },
  {
   "cell_type": "code",
   "execution_count": 16,
   "id": "1cc22669",
   "metadata": {},
   "outputs": [
    {
     "data": {
      "text/plain": [
       "Normal    30964564\n",
       "Low        1440295\n",
       "Name: Activity, dtype: int64"
      ]
     },
     "execution_count": 16,
     "metadata": {},
     "output_type": "execute_result"
    }
   ],
   "source": [
    "# Check \n",
    "All_data['Activity'].value_counts()"
   ]
  },
  {
   "cell_type": "code",
   "execution_count": 17,
   "id": "e461ceb0",
   "metadata": {},
   "outputs": [],
   "source": [
    "# Create Low order Data frame\n",
    "Low_activity_customers = All_data[All_data['Activity']=='Low']"
   ]
  },
  {
   "cell_type": "code",
   "execution_count": 18,
   "id": "d06760ef",
   "metadata": {},
   "outputs": [],
   "source": [
    "# Export Low Acticity Customers\n",
    "Low_activity_customers.to_pickle(os.path.join(path, '02 Data', 'Prepared Data', 'Low_activity_customers.pkl'))"
   ]
  },
  {
   "cell_type": "code",
   "execution_count": 19,
   "id": "7872201d",
   "metadata": {},
   "outputs": [],
   "source": [
    "# Exclude Low activty customers\n",
    "All_Data_Active = All_data[All_data['Activity']=='Normal']"
   ]
  },
  {
   "cell_type": "markdown",
   "id": "871491b1",
   "metadata": {},
   "source": [
    "# 5 Create Customer Profiles "
   ]
  },
  {
   "cell_type": "markdown",
   "id": "a79687fd",
   "metadata": {},
   "source": [
    "# 5.1 Age Profile "
   ]
  },
  {
   "cell_type": "code",
   "execution_count": 20,
   "id": "5834c9d5",
   "metadata": {},
   "outputs": [
    {
     "name": "stderr",
     "output_type": "stream",
     "text": [
      "C:\\Users\\419182\\Newanaconda\\lib\\site-packages\\pandas\\core\\indexing.py:1684: SettingWithCopyWarning: \n",
      "A value is trying to be set on a copy of a slice from a DataFrame.\n",
      "Try using .loc[row_indexer,col_indexer] = value instead\n",
      "\n",
      "See the caveats in the documentation: https://pandas.pydata.org/pandas-docs/stable/user_guide/indexing.html#returning-a-view-versus-a-copy\n",
      "  self.obj[key] = infer_fill_value(value)\n",
      "C:\\Users\\419182\\Newanaconda\\lib\\site-packages\\pandas\\core\\indexing.py:1817: SettingWithCopyWarning: \n",
      "A value is trying to be set on a copy of a slice from a DataFrame.\n",
      "Try using .loc[row_indexer,col_indexer] = value instead\n",
      "\n",
      "See the caveats in the documentation: https://pandas.pydata.org/pandas-docs/stable/user_guide/indexing.html#returning-a-view-versus-a-copy\n",
      "  self._setitem_single_column(loc, value, pi)\n"
     ]
    }
   ],
   "source": [
    "# 5.1 Create Age profile: <=35 years old is young, 36-59 is middle, 60 and older is old\n",
    "All_Data_Active.loc[All_Data_Active['Age']<=35, 'Age_Profile']='Young'"
   ]
  },
  {
   "cell_type": "code",
   "execution_count": 21,
   "id": "449cc9c1",
   "metadata": {},
   "outputs": [],
   "source": [
    "All_Data_Active.loc[(All_Data_Active['Age']<=59)&(All_Data_Active['Age']>35), 'Age_Profile']='Middle'"
   ]
  },
  {
   "cell_type": "code",
   "execution_count": 22,
   "id": "d6599566",
   "metadata": {},
   "outputs": [],
   "source": [
    "All_Data_Active.loc[All_Data_Active['Age']>59, 'Age_Profile']='Old'"
   ]
  },
  {
   "cell_type": "code",
   "execution_count": 23,
   "id": "edbd1e7a",
   "metadata": {},
   "outputs": [
    {
     "data": {
      "text/plain": [
       "Middle    11651255\n",
       "Old       10574504\n",
       "Young      8738805\n",
       "Name: Age_Profile, dtype: int64"
      ]
     },
     "execution_count": 23,
     "metadata": {},
     "output_type": "execute_result"
    }
   ],
   "source": [
    "# Check \n",
    "All_Data_Active['Age_Profile'].value_counts()"
   ]
  },
  {
   "cell_type": "markdown",
   "id": "a846dbff",
   "metadata": {},
   "source": [
    "# 5.2 Income Profile"
   ]
  },
  {
   "cell_type": "code",
   "execution_count": 24,
   "id": "618a053c",
   "metadata": {},
   "outputs": [],
   "source": [
    "# 5.2 Create Income Flag \n",
    "All_Data_Active.loc[All_Data_Active['income']<=50000, 'Income_Profile']='Low'"
   ]
  },
  {
   "cell_type": "code",
   "execution_count": 25,
   "id": "0c771d0b",
   "metadata": {},
   "outputs": [],
   "source": [
    "All_Data_Active.loc[(All_Data_Active['income']>50000)&(All_Data_Active['Age']<=150000), 'Income_Profile']='Middle'"
   ]
  },
  {
   "cell_type": "code",
   "execution_count": 26,
   "id": "e0d326de",
   "metadata": {},
   "outputs": [],
   "source": [
    "All_Data_Active.loc[All_Data_Active['income']>150000, 'Income_Profile']='High'"
   ]
  },
  {
   "cell_type": "code",
   "execution_count": 27,
   "id": "29356a30",
   "metadata": {},
   "outputs": [
    {
     "data": {
      "text/plain": [
       "Middle    23707476\n",
       "High       3894534\n",
       "Low        3362554\n",
       "Name: Income_Profile, dtype: int64"
      ]
     },
     "execution_count": 27,
     "metadata": {},
     "output_type": "execute_result"
    }
   ],
   "source": [
    "# Check \n",
    "All_Data_Active['Income_Profile'].value_counts()"
   ]
  },
  {
   "cell_type": "markdown",
   "id": "9f222d13",
   "metadata": {},
   "source": [
    "# 5.3 Dependants Profile"
   ]
  },
  {
   "cell_type": "code",
   "execution_count": 28,
   "id": "28c98fd4",
   "metadata": {},
   "outputs": [],
   "source": [
    "# 5.3 Create Dependants Flag \n",
    "All_Data_Active.loc[All_Data_Active['number_dependants']>0, 'Dependants_Profile']='Dependants'"
   ]
  },
  {
   "cell_type": "code",
   "execution_count": 29,
   "id": "3642f777",
   "metadata": {},
   "outputs": [],
   "source": [
    "All_Data_Active.loc[All_Data_Active['number_dependants']<=0, 'Dependants_Profile']='No_Dependants'"
   ]
  },
  {
   "cell_type": "code",
   "execution_count": 30,
   "id": "76815a67",
   "metadata": {},
   "outputs": [
    {
     "data": {
      "text/plain": [
       "Dependants       23224883\n",
       "No_Dependants     7739681\n",
       "Name: Dependants_Profile, dtype: int64"
      ]
     },
     "execution_count": 30,
     "metadata": {},
     "output_type": "execute_result"
    }
   ],
   "source": [
    "# Check \n",
    "All_Data_Active['Dependants_Profile'].value_counts()"
   ]
  },
  {
   "cell_type": "code",
   "execution_count": 31,
   "id": "9582dd3c",
   "metadata": {},
   "outputs": [
    {
     "data": {
      "text/plain": [
       "4     9079273\n",
       "16    5177182\n",
       "19    2766406\n",
       "7     2571901\n",
       "1     2121731\n",
       "13    1782705\n",
       "3     1120828\n",
       "15    1012074\n",
       "20    1003834\n",
       "9      822136\n",
       "17     699857\n",
       "12     674781\n",
       "14     670850\n",
       "11     424306\n",
       "18     410392\n",
       "6      255991\n",
       "5      144627\n",
       "8       93060\n",
       "21      64768\n",
       "2       34411\n",
       "10      33451\n",
       "Name: department_id, dtype: int64"
      ]
     },
     "execution_count": 31,
     "metadata": {},
     "output_type": "execute_result"
    }
   ],
   "source": [
    "# Generate other profile Ideas\n",
    "All_Data_Active['department_id'].value_counts()"
   ]
  },
  {
   "cell_type": "code",
   "execution_count": 32,
   "id": "29a9eb3e",
   "metadata": {},
   "outputs": [
    {
     "data": {
      "text/plain": [
       "Index(['user_id', 'Gender', 'STATE', 'Age', 'date_joined', 'number_dependants',\n",
       "       'fam_status', 'income', 'Unnamed: 0_x', 'product_id', 'product_name',\n",
       "       'aisle_id', 'department_id', 'prices', 'Unnamed: 0_y', 'Unnamed: 0.1',\n",
       "       'order_id', 'evaluation_set', 'order_number', 'order_dow',\n",
       "       'order_hour_of_day', 'days_since_prior_order', 'prior_order',\n",
       "       'add_to_cart_order', 'reordered', '_merge', 'exists', 'busiest_day',\n",
       "       'busiest_days', 'busiest_period_of_day', 'price_range', 'price_label',\n",
       "       'max_order', 'loyalty_flag', 'mean_order', 'spending_flag',\n",
       "       'median_days_since_prior_order', 'Frequency_flag', 'True', 'Region',\n",
       "       'Activity', 'Age_Profile', 'Income_Profile', 'Dependants_Profile'],\n",
       "      dtype='object')"
      ]
     },
     "execution_count": 32,
     "metadata": {},
     "output_type": "execute_result"
    }
   ],
   "source": [
    "# check columns\n",
    "All_Data_Active.columns"
   ]
  },
  {
   "cell_type": "code",
   "execution_count": 33,
   "id": "af07c336",
   "metadata": {},
   "outputs": [],
   "source": [
    "# Import Department Data Set to gether ideas of customer groups\n",
    "dep_data = pd.read_csv(os.path.join(path, '02 Data', 'Prepared Data', 'departments_wrangled.csv'),index_col=False)"
   ]
  },
  {
   "cell_type": "code",
   "execution_count": 34,
   "id": "1b31330c",
   "metadata": {},
   "outputs": [
    {
     "data": {
      "text/html": [
       "<div>\n",
       "<style scoped>\n",
       "    .dataframe tbody tr th:only-of-type {\n",
       "        vertical-align: middle;\n",
       "    }\n",
       "\n",
       "    .dataframe tbody tr th {\n",
       "        vertical-align: top;\n",
       "    }\n",
       "\n",
       "    .dataframe thead th {\n",
       "        text-align: right;\n",
       "    }\n",
       "</style>\n",
       "<table border=\"1\" class=\"dataframe\">\n",
       "  <thead>\n",
       "    <tr style=\"text-align: right;\">\n",
       "      <th></th>\n",
       "      <th>Unnamed: 0</th>\n",
       "      <th>department</th>\n",
       "    </tr>\n",
       "  </thead>\n",
       "  <tbody>\n",
       "    <tr>\n",
       "      <th>0</th>\n",
       "      <td>1</td>\n",
       "      <td>frozen</td>\n",
       "    </tr>\n",
       "    <tr>\n",
       "      <th>1</th>\n",
       "      <td>2</td>\n",
       "      <td>other</td>\n",
       "    </tr>\n",
       "    <tr>\n",
       "      <th>2</th>\n",
       "      <td>3</td>\n",
       "      <td>bakery</td>\n",
       "    </tr>\n",
       "    <tr>\n",
       "      <th>3</th>\n",
       "      <td>4</td>\n",
       "      <td>produce</td>\n",
       "    </tr>\n",
       "    <tr>\n",
       "      <th>4</th>\n",
       "      <td>5</td>\n",
       "      <td>alcohol</td>\n",
       "    </tr>\n",
       "    <tr>\n",
       "      <th>5</th>\n",
       "      <td>6</td>\n",
       "      <td>international</td>\n",
       "    </tr>\n",
       "    <tr>\n",
       "      <th>6</th>\n",
       "      <td>7</td>\n",
       "      <td>beverages</td>\n",
       "    </tr>\n",
       "    <tr>\n",
       "      <th>7</th>\n",
       "      <td>8</td>\n",
       "      <td>pets</td>\n",
       "    </tr>\n",
       "    <tr>\n",
       "      <th>8</th>\n",
       "      <td>9</td>\n",
       "      <td>dry goods pasta</td>\n",
       "    </tr>\n",
       "    <tr>\n",
       "      <th>9</th>\n",
       "      <td>10</td>\n",
       "      <td>bulk</td>\n",
       "    </tr>\n",
       "    <tr>\n",
       "      <th>10</th>\n",
       "      <td>11</td>\n",
       "      <td>personal care</td>\n",
       "    </tr>\n",
       "    <tr>\n",
       "      <th>11</th>\n",
       "      <td>12</td>\n",
       "      <td>meat seafood</td>\n",
       "    </tr>\n",
       "    <tr>\n",
       "      <th>12</th>\n",
       "      <td>13</td>\n",
       "      <td>pantry</td>\n",
       "    </tr>\n",
       "    <tr>\n",
       "      <th>13</th>\n",
       "      <td>14</td>\n",
       "      <td>breakfast</td>\n",
       "    </tr>\n",
       "    <tr>\n",
       "      <th>14</th>\n",
       "      <td>15</td>\n",
       "      <td>canned goods</td>\n",
       "    </tr>\n",
       "    <tr>\n",
       "      <th>15</th>\n",
       "      <td>16</td>\n",
       "      <td>dairy eggs</td>\n",
       "    </tr>\n",
       "    <tr>\n",
       "      <th>16</th>\n",
       "      <td>17</td>\n",
       "      <td>household</td>\n",
       "    </tr>\n",
       "    <tr>\n",
       "      <th>17</th>\n",
       "      <td>18</td>\n",
       "      <td>babies</td>\n",
       "    </tr>\n",
       "    <tr>\n",
       "      <th>18</th>\n",
       "      <td>19</td>\n",
       "      <td>snacks</td>\n",
       "    </tr>\n",
       "    <tr>\n",
       "      <th>19</th>\n",
       "      <td>20</td>\n",
       "      <td>deli</td>\n",
       "    </tr>\n",
       "    <tr>\n",
       "      <th>20</th>\n",
       "      <td>21</td>\n",
       "      <td>missing</td>\n",
       "    </tr>\n",
       "  </tbody>\n",
       "</table>\n",
       "</div>"
      ],
      "text/plain": [
       "    Unnamed: 0       department\n",
       "0            1           frozen\n",
       "1            2            other\n",
       "2            3           bakery\n",
       "3            4          produce\n",
       "4            5          alcohol\n",
       "5            6    international\n",
       "6            7        beverages\n",
       "7            8             pets\n",
       "8            9  dry goods pasta\n",
       "9           10             bulk\n",
       "10          11    personal care\n",
       "11          12     meat seafood\n",
       "12          13           pantry\n",
       "13          14        breakfast\n",
       "14          15     canned goods\n",
       "15          16       dairy eggs\n",
       "16          17        household\n",
       "17          18           babies\n",
       "18          19           snacks\n",
       "19          20             deli\n",
       "20          21          missing"
      ]
     },
     "execution_count": 34,
     "metadata": {},
     "output_type": "execute_result"
    }
   ],
   "source": [
    "# Look at different departments\n",
    "dep_data.head(25)"
   ]
  },
  {
   "cell_type": "markdown",
   "id": "b52269d3",
   "metadata": {},
   "source": [
    "# 5.4 Alcohol Drinker Profile"
   ]
  },
  {
   "cell_type": "code",
   "execution_count": 35,
   "id": "ada4e9bf",
   "metadata": {},
   "outputs": [
    {
     "name": "stderr",
     "output_type": "stream",
     "text": [
      "C:\\Users\\419182\\AppData\\Local\\Temp/ipykernel_19384/1203232127.py:2: SettingWithCopyWarning: \n",
      "A value is trying to be set on a copy of a slice from a DataFrame.\n",
      "Try using .loc[row_indexer,col_indexer] = value instead\n",
      "\n",
      "See the caveats in the documentation: https://pandas.pydata.org/pandas-docs/stable/user_guide/indexing.html#returning-a-view-versus-a-copy\n",
      "  All_Data_Active['Alcohol_Consumer'] = [1 if x == 5 else 0 for x in All_Data_Active['department_id']]\n"
     ]
    }
   ],
   "source": [
    "#  5.4 Make a column with alcohol or non alcohol drinkers.  1 is alcohol drinker, 0 is no alcohol to help with memory issues\n",
    "All_Data_Active['Alcohol_Consumer'] = [1 if x == 5 else 0 for x in All_Data_Active['department_id']]"
   ]
  },
  {
   "cell_type": "code",
   "execution_count": 36,
   "id": "cb1bc483",
   "metadata": {},
   "outputs": [
    {
     "data": {
      "text/plain": [
       "0    30819937\n",
       "1      144627\n",
       "Name: Alcohol_Consumer, dtype: int64"
      ]
     },
     "execution_count": 36,
     "metadata": {},
     "output_type": "execute_result"
    }
   ],
   "source": [
    "# check\n",
    "All_Data_Active['Alcohol_Consumer'].value_counts()"
   ]
  },
  {
   "cell_type": "markdown",
   "id": "c9c502c5",
   "metadata": {},
   "source": [
    "# 5.5 Baby Profile "
   ]
  },
  {
   "cell_type": "code",
   "execution_count": 37,
   "id": "994305f2",
   "metadata": {},
   "outputs": [
    {
     "name": "stderr",
     "output_type": "stream",
     "text": [
      "C:\\Users\\419182\\AppData\\Local\\Temp/ipykernel_19384/3679216184.py:2: SettingWithCopyWarning: \n",
      "A value is trying to be set on a copy of a slice from a DataFrame.\n",
      "Try using .loc[row_indexer,col_indexer] = value instead\n",
      "\n",
      "See the caveats in the documentation: https://pandas.pydata.org/pandas-docs/stable/user_guide/indexing.html#returning-a-view-versus-a-copy\n",
      "  All_Data_Active['With_Baby'] = [1 if x == 18 else 0 for x in All_Data_Active['department_id']]\n"
     ]
    }
   ],
   "source": [
    "# 5.5 Make a column with users who have babies or users without babies.  1 is user with abby, 0 is no baby to help with memory issues\n",
    "All_Data_Active['With_Baby'] = [1 if x == 18 else 0 for x in All_Data_Active['department_id']]"
   ]
  },
  {
   "cell_type": "code",
   "execution_count": 38,
   "id": "9f9d45d3",
   "metadata": {},
   "outputs": [
    {
     "data": {
      "text/plain": [
       "0    30554172\n",
       "1      410392\n",
       "Name: With_Baby, dtype: int64"
      ]
     },
     "execution_count": 38,
     "metadata": {},
     "output_type": "execute_result"
    }
   ],
   "source": [
    "All_Data_Active['With_Baby'].value_counts()"
   ]
  },
  {
   "cell_type": "markdown",
   "id": "62eef2e9",
   "metadata": {},
   "source": [
    "# 5.6 Pet Profile"
   ]
  },
  {
   "cell_type": "code",
   "execution_count": 39,
   "id": "271c101d",
   "metadata": {},
   "outputs": [
    {
     "name": "stderr",
     "output_type": "stream",
     "text": [
      "C:\\Users\\419182\\AppData\\Local\\Temp/ipykernel_19384/1648236100.py:2: SettingWithCopyWarning: \n",
      "A value is trying to be set on a copy of a slice from a DataFrame.\n",
      "Try using .loc[row_indexer,col_indexer] = value instead\n",
      "\n",
      "See the caveats in the documentation: https://pandas.pydata.org/pandas-docs/stable/user_guide/indexing.html#returning-a-view-versus-a-copy\n",
      "  All_Data_Active['Has_Pets'] = [1 if x == 8 else 0 for x in All_Data_Active['department_id']]\n"
     ]
    }
   ],
   "source": [
    "# Make a column for customers with pets or no pet customers.  1 is pets, 0 is no pet to help with memory issues\n",
    "All_Data_Active['Has_Pets'] = [1 if x == 8 else 0 for x in All_Data_Active['department_id']]"
   ]
  },
  {
   "cell_type": "code",
   "execution_count": 40,
   "id": "b7d49af5",
   "metadata": {},
   "outputs": [
    {
     "data": {
      "text/plain": [
       "0    30871504\n",
       "1       93060\n",
       "Name: Has_Pets, dtype: int64"
      ]
     },
     "execution_count": 40,
     "metadata": {},
     "output_type": "execute_result"
    }
   ],
   "source": [
    "All_Data_Active['Has_Pets'].value_counts()"
   ]
  },
  {
   "cell_type": "code",
   "execution_count": 41,
   "id": "bd05c6af",
   "metadata": {},
   "outputs": [
    {
     "data": {
      "text/plain": [
       "Index(['user_id', 'Gender', 'STATE', 'Age', 'date_joined', 'number_dependants',\n",
       "       'fam_status', 'income', 'Unnamed: 0_x', 'product_id', 'product_name',\n",
       "       'aisle_id', 'department_id', 'prices', 'Unnamed: 0_y', 'Unnamed: 0.1',\n",
       "       'order_id', 'evaluation_set', 'order_number', 'order_dow',\n",
       "       'order_hour_of_day', 'days_since_prior_order', 'prior_order',\n",
       "       'add_to_cart_order', 'reordered', '_merge', 'exists', 'busiest_day',\n",
       "       'busiest_days', 'busiest_period_of_day', 'price_range', 'price_label',\n",
       "       'max_order', 'loyalty_flag', 'mean_order', 'spending_flag',\n",
       "       'median_days_since_prior_order', 'Frequency_flag', 'True', 'Region',\n",
       "       'Activity', 'Age_Profile', 'Income_Profile', 'Dependants_Profile',\n",
       "       'Alcohol_Consumer', 'With_Baby', 'Has_Pets'],\n",
       "      dtype='object')"
      ]
     },
     "execution_count": 41,
     "metadata": {},
     "output_type": "execute_result"
    }
   ],
   "source": [
    "# Check Columns\n",
    "All_Data_Active.columns"
   ]
  },
  {
   "cell_type": "markdown",
   "id": "60aeb839",
   "metadata": {},
   "source": [
    "# Create Visualizations for Profile "
   ]
  },
  {
   "cell_type": "code",
   "execution_count": 42,
   "id": "479a5e9d",
   "metadata": {},
   "outputs": [],
   "source": [
    "# create seed for sample \n",
    "np.random.seed(6)\n",
    "dev = np.random.rand(len(All_Data_Active)) <= 0.7"
   ]
  },
  {
   "cell_type": "code",
   "execution_count": 43,
   "id": "a5f1b356",
   "metadata": {},
   "outputs": [],
   "source": [
    "# Split data frame into 2 samples\n",
    "# 70%\n",
    "big = All_Data_Active[dev]"
   ]
  },
  {
   "cell_type": "code",
   "execution_count": 44,
   "id": "4e2c7e78",
   "metadata": {},
   "outputs": [],
   "source": [
    "# 30%\n",
    "small = All_Data_Active[~dev]"
   ]
  },
  {
   "cell_type": "code",
   "execution_count": 45,
   "id": "04feba0f",
   "metadata": {},
   "outputs": [
    {
     "data": {
      "text/plain": [
       "30964564"
      ]
     },
     "execution_count": 45,
     "metadata": {},
     "output_type": "execute_result"
    }
   ],
   "source": [
    "# Check to make sure it is divided \n",
    "len(All_Data_Active)"
   ]
  },
  {
   "cell_type": "code",
   "execution_count": 46,
   "id": "919e5598",
   "metadata": {},
   "outputs": [
    {
     "data": {
      "text/plain": [
       "30964564"
      ]
     },
     "execution_count": 46,
     "metadata": {},
     "output_type": "execute_result"
    }
   ],
   "source": [
    "len(big) + len(small)"
   ]
  },
  {
   "cell_type": "code",
   "execution_count": 47,
   "id": "814fdeea",
   "metadata": {},
   "outputs": [],
   "source": [
    "# Reduce samples to applicable columns \n",
    "df_line = small[['income', 'Age']]"
   ]
  },
  {
   "cell_type": "markdown",
   "id": "07d2d2e3",
   "metadata": {},
   "source": [
    "# 6.1 Income Distribution Histogram"
   ]
  },
  {
   "cell_type": "code",
   "execution_count": 115,
   "id": "c0a0b3a9",
   "metadata": {},
   "outputs": [
    {
     "data": {
      "text/plain": [
       "Text(0.5, 1.0, 'Income Distribution')"
      ]
     },
     "execution_count": 115,
     "metadata": {},
     "output_type": "execute_result"
    },
    {
     "data": {
      "image/png": "[encoded data removed]",
      "text/plain": [
       "<Figure size 432x288 with 1 Axes>"
      ]
     },
     "metadata": {
      "needs_background": "light"
     },
     "output_type": "display_data"
    }
   ],
   "source": [
    "# Create a histogram of income distribution\n",
    "hist = small['income'].plot.hist(bins = 30)\n",
    "plt.title('Income Distribution')"
   ]
  },
  {
   "cell_type": "markdown",
   "id": "90070513",
   "metadata": {},
   "source": [
    "# 6.2 Age and Income Line Graph"
   ]
  },
  {
   "cell_type": "code",
   "execution_count": 116,
   "id": "34cd2a4b",
   "metadata": {},
   "outputs": [
    {
     "data": {
      "text/plain": [
       "Text(0.5, 1.0, 'Age and Income')"
      ]
     },
     "execution_count": 116,
     "metadata": {},
     "output_type": "execute_result"
    },
    {
     "data": {
      "image/png": "[encoded data removed]",
      "text/plain": [
       "<Figure size 432x288 with 1 Axes>"
      ]
     },
     "metadata": {
      "needs_background": "light"
     },
     "output_type": "display_data"
    }
   ],
   "source": [
    "# Make a line graph of age and income \n",
    "line = sns.lineplot(data = df_line, x = 'Age', y = 'income')\n",
    "plt.title('Age and Income')"
   ]
  },
  {
   "cell_type": "markdown",
   "id": "4325a304",
   "metadata": {},
   "source": [
    "# 6.3 Age and Income of Pet Consumers"
   ]
  },
  {
   "cell_type": "code",
   "execution_count": 49,
   "id": "1dccfc15",
   "metadata": {},
   "outputs": [],
   "source": [
    "# Create a dataframe of pet owners\n",
    "Pet = All_Data_Active[All_Data_Active['Has_Pets']==1]"
   ]
  },
  {
   "cell_type": "code",
   "execution_count": 50,
   "id": "b5e3c694",
   "metadata": {},
   "outputs": [
    {
     "data": {
      "text/plain": [
       "0    30871504\n",
       "1       93060\n",
       "Name: Has_Pets, dtype: int64"
      ]
     },
     "execution_count": 50,
     "metadata": {},
     "output_type": "execute_result"
    }
   ],
   "source": [
    "# Check Value counts\n",
    "All_Data_Active['Has_Pets'].value_counts()"
   ]
  },
  {
   "cell_type": "code",
   "execution_count": 131,
   "id": "0af423cc",
   "metadata": {
    "scrolled": true
   },
   "outputs": [
    {
     "data": {
      "image/png": "[encoded data removed]",
      "text/plain": [
       "<Figure size 432x288 with 1 Axes>"
      ]
     },
     "metadata": {
      "needs_background": "light"
     },
     "output_type": "display_data"
    }
   ],
   "source": [
    "# create scatter plot\n",
    "scatter1 = sns.scatterplot(data = Pet, x = 'Age', y = 'income')"
   ]
  },
  {
   "cell_type": "markdown",
   "id": "8c1ee51e",
   "metadata": {},
   "source": [
    "# 6.4 Age and Income of Alcohol Consumers"
   ]
  },
  {
   "cell_type": "code",
   "execution_count": 52,
   "id": "6bc063a1",
   "metadata": {},
   "outputs": [],
   "source": [
    "# Create alcohol consumer dataframe\n",
    "Alcohol = All_Data_Active[All_Data_Active['Alcohol_Consumer']==1]"
   ]
  },
  {
   "cell_type": "code",
   "execution_count": 53,
   "id": "b6d28365",
   "metadata": {},
   "outputs": [
    {
     "data": {
      "text/plain": [
       "1    144627\n",
       "Name: Alcohol_Consumer, dtype: int64"
      ]
     },
     "execution_count": 53,
     "metadata": {},
     "output_type": "execute_result"
    }
   ],
   "source": [
    "# check value counts \n",
    "Alcohol['Alcohol_Consumer'].value_counts()"
   ]
  },
  {
   "cell_type": "code",
   "execution_count": 119,
   "id": "c00dbedb",
   "metadata": {},
   "outputs": [
    {
     "data": {
      "text/plain": [
       "Text(0.5, 1.0, 'Age and Income of Alcohol Buyers')"
      ]
     },
     "execution_count": 119,
     "metadata": {},
     "output_type": "execute_result"
    },
    {
     "data": {
      "image/png": "[encoded data removed]",
      "text/plain": [
       "<Figure size 432x288 with 1 Axes>"
      ]
     },
     "metadata": {
      "needs_background": "light"
     },
     "output_type": "display_data"
    }
   ],
   "source": [
    "# Create Scatter plot of age and income of alcohol consumers \n",
    "scatter = sns.scatterplot(data = Alcohol, x = 'Age', y = 'income')\n",
    "plt.title('Age and Income of Alcohol Buyers')"
   ]
  },
  {
   "cell_type": "markdown",
   "id": "1d27621d",
   "metadata": {},
   "source": [
    "Here, we can view the age and income of the customers who have purchased alcohol.  It appears that varying ages purchased alcohol."
   ]
  },
  {
   "cell_type": "markdown",
   "id": "28a01a96",
   "metadata": {},
   "source": [
    "# 6.5 Family Status of Baby Consumers Plot"
   ]
  },
  {
   "cell_type": "code",
   "execution_count": 55,
   "id": "29374341",
   "metadata": {},
   "outputs": [],
   "source": [
    "# create a dataframe of consumers who purchased something in the baby aisle\n",
    "Baby = All_Data_Active[All_Data_Active['With_Baby']==1]"
   ]
  },
  {
   "cell_type": "code",
   "execution_count": 134,
   "id": "f3025908",
   "metadata": {},
   "outputs": [
    {
     "data": {
      "text/plain": [
       "Text(0.5, 1.0, 'Family Status of Baby Consumers')"
      ]
     },
     "execution_count": 134,
     "metadata": {},
     "output_type": "execute_result"
    },
    {
     "data": {
      "image/png": "[encoded data removed]",
      "text/plain": [
       "<Figure size 432x288 with 1 Axes>"
      ]
     },
     "metadata": {
      "needs_background": "light"
     },
     "output_type": "display_data"
    }
   ],
   "source": [
    "# create a bar chart of the family status of consumers who purchased in the baby aisle \n",
    "Barb = Baby['fam_status'].value_counts().plot.bar()\n",
    "plt.title('Family Status of Baby Consumers')"
   ]
  },
  {
   "cell_type": "markdown",
   "id": "1323545f",
   "metadata": {},
   "source": [
    "The column is labeled with baby, but it is limiting to assume that all individuals that purchased an item in the baby department have a baby.  As you can see, individuals with babies come from varying family status.  Next I will cross check the list of consumers with purchases in the baby aisle with their number of dependents. "
   ]
  },
  {
   "cell_type": "markdown",
   "id": "1dd8cb81",
   "metadata": {},
   "source": [
    "# 6.6 Number of Dependants of Baby Aisle Consumers"
   ]
  },
  {
   "cell_type": "code",
   "execution_count": 121,
   "id": "eb7b4ffd",
   "metadata": {},
   "outputs": [
    {
     "data": {
      "text/plain": [
       "Text(0.5, 1.0, 'Number of Dependants for Baby Aisle Consumers')"
      ]
     },
     "execution_count": 121,
     "metadata": {},
     "output_type": "execute_result"
    },
    {
     "data": {
      "image/png": "[encoded data removed]",
      "text/plain": [
       "<Figure size 432x288 with 1 Axes>"
      ]
     },
     "metadata": {
      "needs_background": "light"
     },
     "output_type": "display_data"
    }
   ],
   "source": [
    "# Create a bar chart showing the number of dependents for consumers who purchased items in the baby aisle \n",
    "Bar = Baby['number_dependants'].value_counts().sort_index().plot.bar()\n",
    "plt.title('Number of Dependants for Baby Aisle Consumers')"
   ]
  },
  {
   "cell_type": "markdown",
   "id": "29cec022",
   "metadata": {},
   "source": [
    "Here, you can see that the second most purchases in the baby aisle were attributed to consumer ids that had no dependants. "
   ]
  },
  {
   "cell_type": "markdown",
   "id": "381a174a",
   "metadata": {},
   "source": [
    "# 6.7 Family Status of Non Baby Consumers"
   ]
  },
  {
   "cell_type": "code",
   "execution_count": 58,
   "id": "deee13bf",
   "metadata": {},
   "outputs": [],
   "source": [
    "# create a dataframe for consumers who did not purchase items in the baby aisle \n",
    "Baby2 = All_Data_Active[All_Data_Active['With_Baby']==0]"
   ]
  },
  {
   "cell_type": "code",
   "execution_count": 122,
   "id": "03257342",
   "metadata": {},
   "outputs": [
    {
     "data": {
      "text/plain": [
       "Text(0.5, 1.0, 'Family Status of Non Baby Consumers')"
      ]
     },
     "execution_count": 122,
     "metadata": {},
     "output_type": "execute_result"
    },
    {
     "data": {
      "image/png": "[encoded data removed]",
      "text/plain": [
       "<Figure size 432x288 with 1 Axes>"
      ]
     },
     "metadata": {
      "needs_background": "light"
     },
     "output_type": "display_data"
    }
   ],
   "source": [
    "# create bar chart showing consumers family status who did not purchase baby aisle items \n",
    "Bar2 = Baby2['fam_status'].value_counts().plot.bar()\n",
    "plt.title('Family Status of Non Baby Consumers')"
   ]
  },
  {
   "cell_type": "markdown",
   "id": "ea341b5c",
   "metadata": {},
   "source": [
    "The majority of consumers that did not make purchases in the baby aisle were married individuals. "
   ]
  },
  {
   "cell_type": "markdown",
   "id": "7a299584",
   "metadata": {},
   "source": [
    "# 6.8 Gender of Pet Consumers"
   ]
  },
  {
   "cell_type": "code",
   "execution_count": 123,
   "id": "40cae2cd",
   "metadata": {},
   "outputs": [
    {
     "data": {
      "text/plain": [
       "Text(0.5, 1.0, 'Pet Consumer Gender')"
      ]
     },
     "execution_count": 123,
     "metadata": {},
     "output_type": "execute_result"
    },
    {
     "data": {
      "image/png": "[encoded data removed]",
      "text/plain": [
       "<Figure size 432x288 with 1 Axes>"
      ]
     },
     "metadata": {
      "needs_background": "light"
     },
     "output_type": "display_data"
    }
   ],
   "source": [
    "# create a bar chart of the gender of consumers who purchased a pet related item \n",
    "Bar3 = Pet['Gender'].value_counts().plot.bar()\n",
    "plt.title('Pet Consumer Gender')"
   ]
  },
  {
   "cell_type": "markdown",
   "id": "4d33b71f",
   "metadata": {},
   "source": [
    "More males than females made purchases in the pet section. "
   ]
  },
  {
   "cell_type": "markdown",
   "id": "1e6d0e25",
   "metadata": {},
   "source": [
    "# 7 Aggregate Profiles for Usage "
   ]
  },
  {
   "cell_type": "markdown",
   "id": "6900c818",
   "metadata": {},
   "source": [
    "# 7.1 Age Profile Aggregate "
   ]
  },
  {
   "cell_type": "code",
   "execution_count": 61,
   "id": "b1459917",
   "metadata": {},
   "outputs": [
    {
     "data": {
      "text/html": [
       "<div>\n",
       "<style scoped>\n",
       "    .dataframe tbody tr th:only-of-type {\n",
       "        vertical-align: middle;\n",
       "    }\n",
       "\n",
       "    .dataframe tbody tr th {\n",
       "        vertical-align: top;\n",
       "    }\n",
       "\n",
       "    .dataframe thead tr th {\n",
       "        text-align: left;\n",
       "    }\n",
       "\n",
       "    .dataframe thead tr:last-of-type th {\n",
       "        text-align: right;\n",
       "    }\n",
       "</style>\n",
       "<table border=\"1\" class=\"dataframe\">\n",
       "  <thead>\n",
       "    <tr>\n",
       "      <th></th>\n",
       "      <th colspan=\"3\" halign=\"left\">prices</th>\n",
       "    </tr>\n",
       "    <tr>\n",
       "      <th></th>\n",
       "      <th>mean</th>\n",
       "      <th>min</th>\n",
       "      <th>max</th>\n",
       "    </tr>\n",
       "    <tr>\n",
       "      <th>Age_Profile</th>\n",
       "      <th></th>\n",
       "      <th></th>\n",
       "      <th></th>\n",
       "    </tr>\n",
       "  </thead>\n",
       "  <tbody>\n",
       "    <tr>\n",
       "      <th>Middle</th>\n",
       "      <td>12.010174</td>\n",
       "      <td>1.0</td>\n",
       "      <td>99999.0</td>\n",
       "    </tr>\n",
       "    <tr>\n",
       "      <th>Old</th>\n",
       "      <td>11.724449</td>\n",
       "      <td>1.0</td>\n",
       "      <td>99999.0</td>\n",
       "    </tr>\n",
       "    <tr>\n",
       "      <th>Young</th>\n",
       "      <td>12.084312</td>\n",
       "      <td>1.0</td>\n",
       "      <td>99999.0</td>\n",
       "    </tr>\n",
       "  </tbody>\n",
       "</table>\n",
       "</div>"
      ],
      "text/plain": [
       "                prices              \n",
       "                  mean  min      max\n",
       "Age_Profile                         \n",
       "Middle       12.010174  1.0  99999.0\n",
       "Old          11.724449  1.0  99999.0\n",
       "Young        12.084312  1.0  99999.0"
      ]
     },
     "execution_count": 61,
     "metadata": {},
     "output_type": "execute_result"
    }
   ],
   "source": [
    "#aggregating for age group expenditure\n",
    "All_Data_Active.groupby('Age_Profile').agg({'prices': ['mean', 'min', 'max']})"
   ]
  },
  {
   "cell_type": "markdown",
   "id": "fff24673",
   "metadata": {},
   "source": [
    "# 7.2 Income Profile Aggregate "
   ]
  },
  {
   "cell_type": "code",
   "execution_count": 62,
   "id": "d2f61546",
   "metadata": {},
   "outputs": [
    {
     "data": {
      "text/html": [
       "<div>\n",
       "<style scoped>\n",
       "    .dataframe tbody tr th:only-of-type {\n",
       "        vertical-align: middle;\n",
       "    }\n",
       "\n",
       "    .dataframe tbody tr th {\n",
       "        vertical-align: top;\n",
       "    }\n",
       "\n",
       "    .dataframe thead tr th {\n",
       "        text-align: left;\n",
       "    }\n",
       "\n",
       "    .dataframe thead tr:last-of-type th {\n",
       "        text-align: right;\n",
       "    }\n",
       "</style>\n",
       "<table border=\"1\" class=\"dataframe\">\n",
       "  <thead>\n",
       "    <tr>\n",
       "      <th></th>\n",
       "      <th colspan=\"3\" halign=\"left\">income</th>\n",
       "    </tr>\n",
       "    <tr>\n",
       "      <th></th>\n",
       "      <th>mean</th>\n",
       "      <th>min</th>\n",
       "      <th>max</th>\n",
       "    </tr>\n",
       "    <tr>\n",
       "      <th>Income_Profile</th>\n",
       "      <th></th>\n",
       "      <th></th>\n",
       "      <th></th>\n",
       "    </tr>\n",
       "  </thead>\n",
       "  <tbody>\n",
       "    <tr>\n",
       "      <th>High</th>\n",
       "      <td>170460.038059</td>\n",
       "      <td>150002</td>\n",
       "      <td>593901</td>\n",
       "    </tr>\n",
       "    <tr>\n",
       "      <th>Low</th>\n",
       "      <td>39817.430126</td>\n",
       "      <td>25903</td>\n",
       "      <td>49998</td>\n",
       "    </tr>\n",
       "    <tr>\n",
       "      <th>Middle</th>\n",
       "      <td>96537.861372</td>\n",
       "      <td>50001</td>\n",
       "      <td>150000</td>\n",
       "    </tr>\n",
       "  </tbody>\n",
       "</table>\n",
       "</div>"
      ],
      "text/plain": [
       "                       income                \n",
       "                         mean     min     max\n",
       "Income_Profile                               \n",
       "High            170460.038059  150002  593901\n",
       "Low              39817.430126   25903   49998\n",
       "Middle           96537.861372   50001  150000"
      ]
     },
     "execution_count": 62,
     "metadata": {},
     "output_type": "execute_result"
    }
   ],
   "source": [
    "#aggregating for income\n",
    "All_Data_Active.groupby('Income_Profile').agg({'income': ['mean', 'min', 'max']})"
   ]
  },
  {
   "cell_type": "markdown",
   "id": "5d6dd417",
   "metadata": {},
   "source": [
    "# 7.3 Dependants Profile Aggregate"
   ]
  },
  {
   "cell_type": "code",
   "execution_count": 63,
   "id": "0b332451",
   "metadata": {},
   "outputs": [
    {
     "data": {
      "text/html": [
       "<div>\n",
       "<style scoped>\n",
       "    .dataframe tbody tr th:only-of-type {\n",
       "        vertical-align: middle;\n",
       "    }\n",
       "\n",
       "    .dataframe tbody tr th {\n",
       "        vertical-align: top;\n",
       "    }\n",
       "\n",
       "    .dataframe thead tr th {\n",
       "        text-align: left;\n",
       "    }\n",
       "\n",
       "    .dataframe thead tr:last-of-type th {\n",
       "        text-align: right;\n",
       "    }\n",
       "</style>\n",
       "<table border=\"1\" class=\"dataframe\">\n",
       "  <thead>\n",
       "    <tr>\n",
       "      <th></th>\n",
       "      <th colspan=\"3\" halign=\"left\">number_dependants</th>\n",
       "    </tr>\n",
       "    <tr>\n",
       "      <th></th>\n",
       "      <th>mean</th>\n",
       "      <th>min</th>\n",
       "      <th>max</th>\n",
       "    </tr>\n",
       "    <tr>\n",
       "      <th>fam_status</th>\n",
       "      <th></th>\n",
       "      <th></th>\n",
       "      <th></th>\n",
       "    </tr>\n",
       "  </thead>\n",
       "  <tbody>\n",
       "    <tr>\n",
       "      <th>divorced/widowed</th>\n",
       "      <td>0.000000</td>\n",
       "      <td>0</td>\n",
       "      <td>0</td>\n",
       "    </tr>\n",
       "    <tr>\n",
       "      <th>living with parents and siblings</th>\n",
       "      <td>1.986783</td>\n",
       "      <td>1</td>\n",
       "      <td>3</td>\n",
       "    </tr>\n",
       "    <tr>\n",
       "      <th>married</th>\n",
       "      <td>2.003357</td>\n",
       "      <td>1</td>\n",
       "      <td>3</td>\n",
       "    </tr>\n",
       "    <tr>\n",
       "      <th>single</th>\n",
       "      <td>0.000000</td>\n",
       "      <td>0</td>\n",
       "      <td>0</td>\n",
       "    </tr>\n",
       "  </tbody>\n",
       "</table>\n",
       "</div>"
      ],
      "text/plain": [
       "                                 number_dependants        \n",
       "                                              mean min max\n",
       "fam_status                                                \n",
       "divorced/widowed                          0.000000   0   0\n",
       "living with parents and siblings          1.986783   1   3\n",
       "married                                   2.003357   1   3\n",
       "single                                    0.000000   0   0"
      ]
     },
     "execution_count": 63,
     "metadata": {},
     "output_type": "execute_result"
    }
   ],
   "source": [
    "# #aggregating for dependants\n",
    "All_Data_Active.groupby('fam_status').agg({'number_dependants': ['mean', 'min', 'max']})"
   ]
  },
  {
   "cell_type": "markdown",
   "id": "9fa7a190",
   "metadata": {},
   "source": [
    "# 7.4 Alcohol Profile Aggregate"
   ]
  },
  {
   "cell_type": "code",
   "execution_count": 64,
   "id": "ea943a7a",
   "metadata": {},
   "outputs": [
    {
     "data": {
      "text/html": [
       "<div>\n",
       "<style scoped>\n",
       "    .dataframe tbody tr th:only-of-type {\n",
       "        vertical-align: middle;\n",
       "    }\n",
       "\n",
       "    .dataframe tbody tr th {\n",
       "        vertical-align: top;\n",
       "    }\n",
       "\n",
       "    .dataframe thead tr th {\n",
       "        text-align: left;\n",
       "    }\n",
       "\n",
       "    .dataframe thead tr:last-of-type th {\n",
       "        text-align: right;\n",
       "    }\n",
       "</style>\n",
       "<table border=\"1\" class=\"dataframe\">\n",
       "  <thead>\n",
       "    <tr>\n",
       "      <th></th>\n",
       "      <th colspan=\"3\" halign=\"left\">prices</th>\n",
       "      <th colspan=\"3\" halign=\"left\">income</th>\n",
       "    </tr>\n",
       "    <tr>\n",
       "      <th></th>\n",
       "      <th>mean</th>\n",
       "      <th>min</th>\n",
       "      <th>max</th>\n",
       "      <th>mean</th>\n",
       "      <th>min</th>\n",
       "      <th>max</th>\n",
       "    </tr>\n",
       "    <tr>\n",
       "      <th>Alcohol_Consumer</th>\n",
       "      <th></th>\n",
       "      <th></th>\n",
       "      <th></th>\n",
       "      <th></th>\n",
       "      <th></th>\n",
       "      <th></th>\n",
       "    </tr>\n",
       "  </thead>\n",
       "  <tbody>\n",
       "    <tr>\n",
       "      <th>0</th>\n",
       "      <td>11.951273</td>\n",
       "      <td>1.0</td>\n",
       "      <td>99999.0</td>\n",
       "      <td>99638.474396</td>\n",
       "      <td>25903</td>\n",
       "      <td>593901</td>\n",
       "    </tr>\n",
       "    <tr>\n",
       "      <th>1</th>\n",
       "      <td>8.150699</td>\n",
       "      <td>1.0</td>\n",
       "      <td>15.0</td>\n",
       "      <td>107643.805928</td>\n",
       "      <td>26170</td>\n",
       "      <td>593901</td>\n",
       "    </tr>\n",
       "  </tbody>\n",
       "</table>\n",
       "</div>"
      ],
      "text/plain": [
       "                     prices                       income               \n",
       "                       mean  min      max           mean    min     max\n",
       "Alcohol_Consumer                                                       \n",
       "0                 11.951273  1.0  99999.0   99638.474396  25903  593901\n",
       "1                  8.150699  1.0     15.0  107643.805928  26170  593901"
      ]
     },
     "execution_count": 64,
     "metadata": {},
     "output_type": "execute_result"
    }
   ],
   "source": [
    "# aggregating for alcohol profile\n",
    "All_Data_Active.groupby(['Alcohol_Consumer']).agg({'prices':['mean', 'min', 'max'], 'income':['mean', 'min', 'max']})"
   ]
  },
  {
   "cell_type": "markdown",
   "id": "4f1e954b",
   "metadata": {},
   "source": [
    "# 7.5 Pet Profile Aggregate "
   ]
  },
  {
   "cell_type": "code",
   "execution_count": 65,
   "id": "93da572b",
   "metadata": {},
   "outputs": [
    {
     "data": {
      "text/html": [
       "<div>\n",
       "<style scoped>\n",
       "    .dataframe tbody tr th:only-of-type {\n",
       "        vertical-align: middle;\n",
       "    }\n",
       "\n",
       "    .dataframe tbody tr th {\n",
       "        vertical-align: top;\n",
       "    }\n",
       "\n",
       "    .dataframe thead tr th {\n",
       "        text-align: left;\n",
       "    }\n",
       "\n",
       "    .dataframe thead tr:last-of-type th {\n",
       "        text-align: right;\n",
       "    }\n",
       "</style>\n",
       "<table border=\"1\" class=\"dataframe\">\n",
       "  <thead>\n",
       "    <tr>\n",
       "      <th></th>\n",
       "      <th colspan=\"3\" halign=\"left\">prices</th>\n",
       "      <th colspan=\"3\" halign=\"left\">income</th>\n",
       "    </tr>\n",
       "    <tr>\n",
       "      <th></th>\n",
       "      <th>mean</th>\n",
       "      <th>min</th>\n",
       "      <th>max</th>\n",
       "      <th>mean</th>\n",
       "      <th>min</th>\n",
       "      <th>max</th>\n",
       "    </tr>\n",
       "    <tr>\n",
       "      <th>Has_Pets</th>\n",
       "      <th></th>\n",
       "      <th></th>\n",
       "      <th></th>\n",
       "      <th></th>\n",
       "      <th></th>\n",
       "      <th></th>\n",
       "    </tr>\n",
       "  </thead>\n",
       "  <tbody>\n",
       "    <tr>\n",
       "      <th>0</th>\n",
       "      <td>11.945718</td>\n",
       "      <td>1.0</td>\n",
       "      <td>99999.0</td>\n",
       "      <td>99663.357562</td>\n",
       "      <td>25903</td>\n",
       "      <td>593901</td>\n",
       "    </tr>\n",
       "    <tr>\n",
       "      <th>1</th>\n",
       "      <td>7.887489</td>\n",
       "      <td>1.0</td>\n",
       "      <td>15.0</td>\n",
       "      <td>103825.088577</td>\n",
       "      <td>26256</td>\n",
       "      <td>591089</td>\n",
       "    </tr>\n",
       "  </tbody>\n",
       "</table>\n",
       "</div>"
      ],
      "text/plain": [
       "             prices                       income               \n",
       "               mean  min      max           mean    min     max\n",
       "Has_Pets                                                       \n",
       "0         11.945718  1.0  99999.0   99663.357562  25903  593901\n",
       "1          7.887489  1.0     15.0  103825.088577  26256  591089"
      ]
     },
     "execution_count": 65,
     "metadata": {},
     "output_type": "execute_result"
    }
   ],
   "source": [
    "# aggregating for pet profile\n",
    "All_Data_Active.groupby(['Has_Pets']).agg({'prices':['mean', 'min', 'max'], 'income':['mean', 'min', 'max']})"
   ]
  },
  {
   "cell_type": "markdown",
   "id": "7f567665",
   "metadata": {},
   "source": [
    "# Baby Profile Aggregate"
   ]
  },
  {
   "cell_type": "code",
   "execution_count": 66,
   "id": "e1edebab",
   "metadata": {},
   "outputs": [
    {
     "data": {
      "text/html": [
       "<div>\n",
       "<style scoped>\n",
       "    .dataframe tbody tr th:only-of-type {\n",
       "        vertical-align: middle;\n",
       "    }\n",
       "\n",
       "    .dataframe tbody tr th {\n",
       "        vertical-align: top;\n",
       "    }\n",
       "\n",
       "    .dataframe thead tr th {\n",
       "        text-align: left;\n",
       "    }\n",
       "\n",
       "    .dataframe thead tr:last-of-type th {\n",
       "        text-align: right;\n",
       "    }\n",
       "</style>\n",
       "<table border=\"1\" class=\"dataframe\">\n",
       "  <thead>\n",
       "    <tr>\n",
       "      <th></th>\n",
       "      <th colspan=\"3\" halign=\"left\">Age</th>\n",
       "      <th colspan=\"3\" halign=\"left\">income</th>\n",
       "    </tr>\n",
       "    <tr>\n",
       "      <th></th>\n",
       "      <th>mean</th>\n",
       "      <th>min</th>\n",
       "      <th>max</th>\n",
       "      <th>mean</th>\n",
       "      <th>min</th>\n",
       "      <th>max</th>\n",
       "    </tr>\n",
       "    <tr>\n",
       "      <th>With_Baby</th>\n",
       "      <th></th>\n",
       "      <th></th>\n",
       "      <th></th>\n",
       "      <th></th>\n",
       "      <th></th>\n",
       "      <th></th>\n",
       "    </tr>\n",
       "  </thead>\n",
       "  <tbody>\n",
       "    <tr>\n",
       "      <th>0</th>\n",
       "      <td>49.469861</td>\n",
       "      <td>18</td>\n",
       "      <td>81</td>\n",
       "      <td>99644.586509</td>\n",
       "      <td>25903</td>\n",
       "      <td>593901</td>\n",
       "    </tr>\n",
       "    <tr>\n",
       "      <th>1</th>\n",
       "      <td>49.331347</td>\n",
       "      <td>18</td>\n",
       "      <td>81</td>\n",
       "      <td>102004.593913</td>\n",
       "      <td>25991</td>\n",
       "      <td>579169</td>\n",
       "    </tr>\n",
       "  </tbody>\n",
       "</table>\n",
       "</div>"
      ],
      "text/plain": [
       "                 Age                 income               \n",
       "                mean min max           mean    min     max\n",
       "With_Baby                                                 \n",
       "0          49.469861  18  81   99644.586509  25903  593901\n",
       "1          49.331347  18  81  102004.593913  25991  579169"
      ]
     },
     "execution_count": 66,
     "metadata": {},
     "output_type": "execute_result"
    }
   ],
   "source": [
    "# aggregating for baby profile\n",
    "All_Data_Active.groupby(['With_Baby']).agg({'Age':['mean', 'min', 'max'], 'income':['mean', 'min', 'max']})"
   ]
  },
  {
   "cell_type": "markdown",
   "id": "dafb0f3b",
   "metadata": {},
   "source": [
    "# 8 Compare Customer Profiles with Regions"
   ]
  },
  {
   "cell_type": "markdown",
   "id": "ce582918",
   "metadata": {},
   "source": [
    "# 8.1 Age Profile and Region"
   ]
  },
  {
   "cell_type": "markdown",
   "id": "23df8158",
   "metadata": {},
   "source": [
    "In a previous cell, I looked at the distribution of age and income.  Now, I will compare age profile with region."
   ]
  },
  {
   "cell_type": "code",
   "execution_count": 67,
   "id": "b08af69a",
   "metadata": {},
   "outputs": [
    {
     "data": {
      "text/plain": [
       "South        10311139\n",
       "West          7927227\n",
       "Midwest       7261513\n",
       "Northeast     5464685\n",
       "Name: Region, dtype: int64"
      ]
     },
     "execution_count": 67,
     "metadata": {},
     "output_type": "execute_result"
    }
   ],
   "source": [
    "All_Data_Active['Region'].value_counts()"
   ]
  },
  {
   "cell_type": "code",
   "execution_count": 68,
   "id": "7e29c80d",
   "metadata": {},
   "outputs": [],
   "source": [
    "# create subset to graph\n",
    "South = All_Data_Active[All_Data_Active['Region']=='South']"
   ]
  },
  {
   "cell_type": "code",
   "execution_count": 73,
   "id": "d0c32871",
   "metadata": {},
   "outputs": [
    {
     "data": {
      "text/plain": [
       "Text(0.5, 1.0, 'Age Profile in the South')"
      ]
     },
     "execution_count": 73,
     "metadata": {},
     "output_type": "execute_result"
    },
    {
     "data": {
      "image/png": "[encoded data removed]",
      "text/plain": [
       "<Figure size 432x288 with 1 Axes>"
      ]
     },
     "metadata": {
      "needs_background": "light"
     },
     "output_type": "display_data"
    }
   ],
   "source": [
    "# plot for the south region\n",
    "Bar5 = South['Age_Profile'].value_counts().plot.bar(color = ['blue', 'purple', 'green'])\n",
    "plt.title('Age Profile in the South')"
   ]
  },
  {
   "cell_type": "code",
   "execution_count": 70,
   "id": "6752c8f7",
   "metadata": {},
   "outputs": [],
   "source": [
    "# create subset to graoh\n",
    "West = All_Data_Active[All_Data_Active['Region']=='West']"
   ]
  },
  {
   "cell_type": "code",
   "execution_count": 74,
   "id": "3d3a2feb",
   "metadata": {},
   "outputs": [
    {
     "data": {
      "text/plain": [
       "Text(0.5, 1.0, 'Age Profile in the West')"
      ]
     },
     "execution_count": 74,
     "metadata": {},
     "output_type": "execute_result"
    },
    {
     "data": {
      "image/png": "[encoded data removed]",
      "text/plain": [
       "<Figure size 432x288 with 1 Axes>"
      ]
     },
     "metadata": {
      "needs_background": "light"
     },
     "output_type": "display_data"
    }
   ],
   "source": [
    "# plot for the west region\n",
    "Bar6 = West['Age_Profile'].value_counts().plot.bar(color = ['blue', 'purple', 'green'])\n",
    "plt.title('Age Profile in the West')"
   ]
  },
  {
   "cell_type": "code",
   "execution_count": 75,
   "id": "df5ac58a",
   "metadata": {},
   "outputs": [],
   "source": [
    "# create subset to graph\n",
    "Midwest = All_Data_Active[All_Data_Active['Region']=='Midwest']"
   ]
  },
  {
   "cell_type": "code",
   "execution_count": 76,
   "id": "652d01d2",
   "metadata": {},
   "outputs": [
    {
     "data": {
      "text/plain": [
       "Text(0.5, 1.0, 'Age Profile in the Midwest')"
      ]
     },
     "execution_count": 76,
     "metadata": {},
     "output_type": "execute_result"
    },
    {
     "data": {
      "image/png": "[encoded data removed]",
      "text/plain": [
       "<Figure size 432x288 with 1 Axes>"
      ]
     },
     "metadata": {
      "needs_background": "light"
     },
     "output_type": "display_data"
    }
   ],
   "source": [
    "# plot for midwest region\n",
    "Bar7 = Midwest['Age_Profile'].value_counts().plot.bar(color = ['blue', 'purple', 'green'])\n",
    "plt.title('Age Profile in the Midwest')"
   ]
  },
  {
   "cell_type": "code",
   "execution_count": 77,
   "id": "d7038e1b",
   "metadata": {},
   "outputs": [],
   "source": [
    "# create subset to graph\n",
    "Northeast = All_Data_Active[All_Data_Active['Region']=='Northeast']"
   ]
  },
  {
   "cell_type": "code",
   "execution_count": 144,
   "id": "6a26987c",
   "metadata": {},
   "outputs": [
    {
     "data": {
      "text/plain": [
       "Text(0.5, 1.0, 'Age Profile in the Northeast')"
      ]
     },
     "execution_count": 144,
     "metadata": {},
     "output_type": "execute_result"
    },
    {
     "data": {
      "image/png": "[encoded data removed]",
      "text/plain": [
       "<Figure size 432x288 with 1 Axes>"
      ]
     },
     "metadata": {
      "needs_background": "light"
     },
     "output_type": "display_data"
    }
   ],
   "source": [
    "# plot for the northeast region\n",
    "Bar8 = Northeast['Age_Profile'].value_counts().plot.bar(color = ['blue', 'purple', 'green'])\n",
    "plt.title('Age Profile in the Northeast')"
   ]
  },
  {
   "cell_type": "markdown",
   "id": "828cb431",
   "metadata": {},
   "source": [
    "# 8.2 Income in Each Region"
   ]
  },
  {
   "cell_type": "code",
   "execution_count": 103,
   "id": "a742703e",
   "metadata": {},
   "outputs": [
    {
     "data": {
      "text/html": [
       "<div>\n",
       "<style scoped>\n",
       "    .dataframe tbody tr th:only-of-type {\n",
       "        vertical-align: middle;\n",
       "    }\n",
       "\n",
       "    .dataframe tbody tr th {\n",
       "        vertical-align: top;\n",
       "    }\n",
       "\n",
       "    .dataframe thead th {\n",
       "        text-align: right;\n",
       "    }\n",
       "</style>\n",
       "<table border=\"1\" class=\"dataframe\">\n",
       "  <thead>\n",
       "    <tr style=\"text-align: right;\">\n",
       "      <th>Region</th>\n",
       "      <th>Midwest</th>\n",
       "      <th>Northeast</th>\n",
       "      <th>South</th>\n",
       "      <th>West</th>\n",
       "    </tr>\n",
       "    <tr>\n",
       "      <th>Income_Profile</th>\n",
       "      <th></th>\n",
       "      <th></th>\n",
       "      <th></th>\n",
       "      <th></th>\n",
       "    </tr>\n",
       "  </thead>\n",
       "  <tbody>\n",
       "    <tr>\n",
       "      <th>High</th>\n",
       "      <td>916961</td>\n",
       "      <td>677680</td>\n",
       "      <td>1290303</td>\n",
       "      <td>1009590</td>\n",
       "    </tr>\n",
       "    <tr>\n",
       "      <th>Low</th>\n",
       "      <td>783764</td>\n",
       "      <td>587137</td>\n",
       "      <td>1142572</td>\n",
       "      <td>849081</td>\n",
       "    </tr>\n",
       "    <tr>\n",
       "      <th>Middle</th>\n",
       "      <td>5560788</td>\n",
       "      <td>4199868</td>\n",
       "      <td>7878264</td>\n",
       "      <td>6068556</td>\n",
       "    </tr>\n",
       "  </tbody>\n",
       "</table>\n",
       "</div>"
      ],
      "text/plain": [
       "Region          Midwest  Northeast    South     West\n",
       "Income_Profile                                      \n",
       "High             916961     677680  1290303  1009590\n",
       "Low              783764     587137  1142572   849081\n",
       "Middle          5560788    4199868  7878264  6068556"
      ]
     },
     "execution_count": 103,
     "metadata": {},
     "output_type": "execute_result"
    }
   ],
   "source": [
    "# create cross tab for income profile and region\n",
    "income =pd.crosstab(All_Data_Active['Income_Profile'], All_Data_Active['Region'])\n",
    "income"
   ]
  },
  {
   "cell_type": "code",
   "execution_count": 124,
   "id": "fe69bf60",
   "metadata": {},
   "outputs": [
    {
     "data": {
      "text/plain": [
       "Text(0.5, 1.0, 'Income Profile per Region')"
      ]
     },
     "execution_count": 124,
     "metadata": {},
     "output_type": "execute_result"
    },
    {
     "data": {
      "image/png": "[encoded data removed]",
      "text/plain": [
       "<Figure size 432x288 with 1 Axes>"
      ]
     },
     "metadata": {
      "needs_background": "light"
     },
     "output_type": "display_data"
    }
   ],
   "source": [
    "# plot crosstab\n",
    "bar13 = income.plot.bar()\n",
    "plt.title('Income Profile per Region')"
   ]
  },
  {
   "cell_type": "markdown",
   "id": "8a505c66",
   "metadata": {},
   "source": [
    "# 8.3 Number of Dependants in each region "
   ]
  },
  {
   "cell_type": "code",
   "execution_count": 98,
   "id": "7ae2e7da",
   "metadata": {},
   "outputs": [
    {
     "data": {
      "text/html": [
       "<div>\n",
       "<style scoped>\n",
       "    .dataframe tbody tr th:only-of-type {\n",
       "        vertical-align: middle;\n",
       "    }\n",
       "\n",
       "    .dataframe tbody tr th {\n",
       "        vertical-align: top;\n",
       "    }\n",
       "\n",
       "    .dataframe thead th {\n",
       "        text-align: right;\n",
       "    }\n",
       "</style>\n",
       "<table border=\"1\" class=\"dataframe\">\n",
       "  <thead>\n",
       "    <tr style=\"text-align: right;\">\n",
       "      <th>Region</th>\n",
       "      <th>Midwest</th>\n",
       "      <th>Northeast</th>\n",
       "      <th>South</th>\n",
       "      <th>West</th>\n",
       "    </tr>\n",
       "    <tr>\n",
       "      <th>Dependants_Profile</th>\n",
       "      <th></th>\n",
       "      <th></th>\n",
       "      <th></th>\n",
       "      <th></th>\n",
       "    </tr>\n",
       "  </thead>\n",
       "  <tbody>\n",
       "    <tr>\n",
       "      <th>Dependants</th>\n",
       "      <td>5438697</td>\n",
       "      <td>4110203</td>\n",
       "      <td>7729206</td>\n",
       "      <td>5946777</td>\n",
       "    </tr>\n",
       "    <tr>\n",
       "      <th>No_Dependants</th>\n",
       "      <td>1822816</td>\n",
       "      <td>1354482</td>\n",
       "      <td>2581933</td>\n",
       "      <td>1980450</td>\n",
       "    </tr>\n",
       "  </tbody>\n",
       "</table>\n",
       "</div>"
      ],
      "text/plain": [
       "Region              Midwest  Northeast    South     West\n",
       "Dependants_Profile                                      \n",
       "Dependants          5438697    4110203  7729206  5946777\n",
       "No_Dependants       1822816    1354482  2581933  1980450"
      ]
     },
     "execution_count": 98,
     "metadata": {},
     "output_type": "execute_result"
    }
   ],
   "source": [
    "# create cross tab for dependants profile and region\n",
    "dependents =pd.crosstab(All_Data_Active['Dependants_Profile'], All_Data_Active['Region'])\n",
    "dependents"
   ]
  },
  {
   "cell_type": "code",
   "execution_count": 125,
   "id": "4bf98bf0",
   "metadata": {},
   "outputs": [
    {
     "data": {
      "text/plain": [
       "Text(0.5, 1.0, 'Dependants Profile per Region')"
      ]
     },
     "execution_count": 125,
     "metadata": {},
     "output_type": "execute_result"
    },
    {
     "data": {
      "image/png": "[encoded data removed]",
      "text/plain": [
       "<Figure size 432x288 with 1 Axes>"
      ]
     },
     "metadata": {
      "needs_background": "light"
     },
     "output_type": "display_data"
    }
   ],
   "source": [
    "# plot crosstab\n",
    "bar11 =dependents.plot.bar()\n",
    "plt.title('Dependants Profile per Region')"
   ]
  },
  {
   "cell_type": "markdown",
   "id": "0ade026d",
   "metadata": {},
   "source": [
    "# 8.4 Alcohol Consumers in each region "
   ]
  },
  {
   "cell_type": "code",
   "execution_count": 109,
   "id": "51616cab",
   "metadata": {},
   "outputs": [
    {
     "data": {
      "text/html": [
       "<div>\n",
       "<style scoped>\n",
       "    .dataframe tbody tr th:only-of-type {\n",
       "        vertical-align: middle;\n",
       "    }\n",
       "\n",
       "    .dataframe tbody tr th {\n",
       "        vertical-align: top;\n",
       "    }\n",
       "\n",
       "    .dataframe thead th {\n",
       "        text-align: right;\n",
       "    }\n",
       "</style>\n",
       "<table border=\"1\" class=\"dataframe\">\n",
       "  <thead>\n",
       "    <tr style=\"text-align: right;\">\n",
       "      <th>Region</th>\n",
       "      <th>Midwest</th>\n",
       "      <th>Northeast</th>\n",
       "      <th>South</th>\n",
       "      <th>West</th>\n",
       "    </tr>\n",
       "    <tr>\n",
       "      <th>Alcohol_Consumer</th>\n",
       "      <th></th>\n",
       "      <th></th>\n",
       "      <th></th>\n",
       "      <th></th>\n",
       "    </tr>\n",
       "  </thead>\n",
       "  <tbody>\n",
       "    <tr>\n",
       "      <th>0</th>\n",
       "      <td>7227470</td>\n",
       "      <td>5439668</td>\n",
       "      <td>10262326</td>\n",
       "      <td>7890473</td>\n",
       "    </tr>\n",
       "    <tr>\n",
       "      <th>1</th>\n",
       "      <td>34043</td>\n",
       "      <td>25017</td>\n",
       "      <td>48813</td>\n",
       "      <td>36754</td>\n",
       "    </tr>\n",
       "  </tbody>\n",
       "</table>\n",
       "</div>"
      ],
      "text/plain": [
       "Region            Midwest  Northeast     South     West\n",
       "Alcohol_Consumer                                       \n",
       "0                 7227470    5439668  10262326  7890473\n",
       "1                   34043      25017     48813    36754"
      ]
     },
     "execution_count": 109,
     "metadata": {},
     "output_type": "execute_result"
    }
   ],
   "source": [
    "# create cross tab for alcohol consumer and region\n",
    "alc2 =pd.crosstab(All_Data_Active['Alcohol_Consumer'], All_Data_Active['Region'])\n",
    "alc2"
   ]
  },
  {
   "cell_type": "code",
   "execution_count": 126,
   "id": "f63d4474",
   "metadata": {},
   "outputs": [
    {
     "data": {
      "text/plain": [
       "Text(0.5, 1.0, 'Alcohol Profile Per Region')"
      ]
     },
     "execution_count": 126,
     "metadata": {},
     "output_type": "execute_result"
    },
    {
     "data": {
      "image/png": "[encoded data removed]",
      "text/plain": [
       "<Figure size 432x288 with 1 Axes>"
      ]
     },
     "metadata": {
      "needs_background": "light"
     },
     "output_type": "display_data"
    }
   ],
   "source": [
    "# plot crosstab\n",
    "bar12 = alc2.plot.bar()\n",
    "plt.title('Alcohol Profile Per Region')"
   ]
  },
  {
   "cell_type": "markdown",
   "id": "15dab8af",
   "metadata": {},
   "source": [
    "# 8.5 Baby Consumers in Each Region"
   ]
  },
  {
   "cell_type": "code",
   "execution_count": 111,
   "id": "6f61b095",
   "metadata": {},
   "outputs": [
    {
     "data": {
      "text/html": [
       "<div>\n",
       "<style scoped>\n",
       "    .dataframe tbody tr th:only-of-type {\n",
       "        vertical-align: middle;\n",
       "    }\n",
       "\n",
       "    .dataframe tbody tr th {\n",
       "        vertical-align: top;\n",
       "    }\n",
       "\n",
       "    .dataframe thead th {\n",
       "        text-align: right;\n",
       "    }\n",
       "</style>\n",
       "<table border=\"1\" class=\"dataframe\">\n",
       "  <thead>\n",
       "    <tr style=\"text-align: right;\">\n",
       "      <th>Region</th>\n",
       "      <th>Midwest</th>\n",
       "      <th>Northeast</th>\n",
       "      <th>South</th>\n",
       "      <th>West</th>\n",
       "    </tr>\n",
       "    <tr>\n",
       "      <th>With_Baby</th>\n",
       "      <th></th>\n",
       "      <th></th>\n",
       "      <th></th>\n",
       "      <th></th>\n",
       "    </tr>\n",
       "  </thead>\n",
       "  <tbody>\n",
       "    <tr>\n",
       "      <th>0</th>\n",
       "      <td>7165772</td>\n",
       "      <td>5391973</td>\n",
       "      <td>10171628</td>\n",
       "      <td>7824799</td>\n",
       "    </tr>\n",
       "    <tr>\n",
       "      <th>1</th>\n",
       "      <td>95741</td>\n",
       "      <td>72712</td>\n",
       "      <td>139511</td>\n",
       "      <td>102428</td>\n",
       "    </tr>\n",
       "  </tbody>\n",
       "</table>\n",
       "</div>"
      ],
      "text/plain": [
       "Region     Midwest  Northeast     South     West\n",
       "With_Baby                                       \n",
       "0          7165772    5391973  10171628  7824799\n",
       "1            95741      72712    139511   102428"
      ]
     },
     "execution_count": 111,
     "metadata": {},
     "output_type": "execute_result"
    }
   ],
   "source": [
    "# create cross tab for region and consumers with baby purchases \n",
    "baby =pd.crosstab(All_Data_Active['With_Baby'], All_Data_Active['Region'])\n",
    "baby"
   ]
  },
  {
   "cell_type": "code",
   "execution_count": 127,
   "id": "b1f2ad91",
   "metadata": {},
   "outputs": [
    {
     "data": {
      "text/plain": [
       "Text(0.5, 1.0, 'Baby Profile Per Region')"
      ]
     },
     "execution_count": 127,
     "metadata": {},
     "output_type": "execute_result"
    },
    {
     "data": {
      "image/png": "[encoded data removed]",
      "text/plain": [
       "<Figure size 432x288 with 1 Axes>"
      ]
     },
     "metadata": {
      "needs_background": "light"
     },
     "output_type": "display_data"
    }
   ],
   "source": [
    "# plot crosstab\n",
    "bar14 = baby.plot.bar()\n",
    "plt.title('Baby Profile Per Region')"
   ]
  },
  {
   "cell_type": "markdown",
   "id": "a5398d3a",
   "metadata": {},
   "source": [
    "# 8.6 Pet Profiles in Each Region"
   ]
  },
  {
   "cell_type": "code",
   "execution_count": 113,
   "id": "05f576c4",
   "metadata": {},
   "outputs": [
    {
     "data": {
      "text/html": [
       "<div>\n",
       "<style scoped>\n",
       "    .dataframe tbody tr th:only-of-type {\n",
       "        vertical-align: middle;\n",
       "    }\n",
       "\n",
       "    .dataframe tbody tr th {\n",
       "        vertical-align: top;\n",
       "    }\n",
       "\n",
       "    .dataframe thead th {\n",
       "        text-align: right;\n",
       "    }\n",
       "</style>\n",
       "<table border=\"1\" class=\"dataframe\">\n",
       "  <thead>\n",
       "    <tr style=\"text-align: right;\">\n",
       "      <th>Region</th>\n",
       "      <th>Midwest</th>\n",
       "      <th>Northeast</th>\n",
       "      <th>South</th>\n",
       "      <th>West</th>\n",
       "    </tr>\n",
       "    <tr>\n",
       "      <th>Has_Pets</th>\n",
       "      <th></th>\n",
       "      <th></th>\n",
       "      <th></th>\n",
       "      <th></th>\n",
       "    </tr>\n",
       "  </thead>\n",
       "  <tbody>\n",
       "    <tr>\n",
       "      <th>0</th>\n",
       "      <td>7240155</td>\n",
       "      <td>5446951</td>\n",
       "      <td>10281230</td>\n",
       "      <td>7903168</td>\n",
       "    </tr>\n",
       "    <tr>\n",
       "      <th>1</th>\n",
       "      <td>21358</td>\n",
       "      <td>17734</td>\n",
       "      <td>29909</td>\n",
       "      <td>24059</td>\n",
       "    </tr>\n",
       "  </tbody>\n",
       "</table>\n",
       "</div>"
      ],
      "text/plain": [
       "Region    Midwest  Northeast     South     West\n",
       "Has_Pets                                       \n",
       "0         7240155    5446951  10281230  7903168\n",
       "1           21358      17734     29909    24059"
      ]
     },
     "execution_count": 113,
     "metadata": {},
     "output_type": "execute_result"
    }
   ],
   "source": [
    "# create cross tab with region and consumers who have made pet purchases\n",
    "pet =pd.crosstab(All_Data_Active['Has_Pets'], All_Data_Active['Region'])\n",
    "pet"
   ]
  },
  {
   "cell_type": "code",
   "execution_count": 128,
   "id": "7ee0da41",
   "metadata": {},
   "outputs": [
    {
     "data": {
      "text/plain": [
       "Text(0.5, 1.0, 'Pet Profile Per Region')"
      ]
     },
     "execution_count": 128,
     "metadata": {},
     "output_type": "execute_result"
    },
    {
     "data": {
      "image/png": "[encoded data removed]",
      "text/plain": [
       "<Figure size 432x288 with 1 Axes>"
      ]
     },
     "metadata": {
      "needs_background": "light"
     },
     "output_type": "display_data"
    }
   ],
   "source": [
    "# plot crosstab\n",
    "bar15 = pet.plot.bar()\n",
    "plt.title('Pet Profile Per Region')"
   ]
  },
  {
   "cell_type": "markdown",
   "id": "885dc8b9",
   "metadata": {},
   "source": [
    "# 9 Export all Visuals "
   ]
  },
  {
   "cell_type": "code",
   "execution_count": 129,
   "id": "84926263",
   "metadata": {},
   "outputs": [],
   "source": [
    "# Export Income Distribution Histogram\n",
    "hist.figure.savefig(os.path.join(path, '04 Analysis','Visualizations', '4.10 Income_Dist_Hist.png'))"
   ]
  },
  {
   "cell_type": "code",
   "execution_count": 130,
   "id": "4365041e",
   "metadata": {},
   "outputs": [],
   "source": [
    "# Export Age and Income Line Graph\n",
    "line.figure.savefig(os.path.join(path, '04 Analysis','Visualizations', '4.10 Age_Income_Line.png'))"
   ]
  },
  {
   "cell_type": "code",
   "execution_count": 132,
   "id": "84bdd2fd",
   "metadata": {},
   "outputs": [],
   "source": [
    "# Export scatter plot of age and income of pet consumers\n",
    "scatter1.figure.savefig(os.path.join(path, '04 Analysis','Visualizations', '4.10 Pet_Age_Income_Scatter.png'))"
   ]
  },
  {
   "cell_type": "code",
   "execution_count": 133,
   "id": "6706420d",
   "metadata": {},
   "outputs": [],
   "source": [
    "# Export scatterplot of age and income of alcohol consumers\n",
    "scatter.figure.savefig(os.path.join(path, '04 Analysis','Visualizations', '4.10 Alc_Age_Income_Scatter.png'))"
   ]
  },
  {
   "cell_type": "code",
   "execution_count": 136,
   "id": "d8dc1bc8",
   "metadata": {},
   "outputs": [],
   "source": [
    "# Export Family status of baby consumers plot\n",
    "Barb.figure.savefig(os.path.join(path, '04 Analysis','Visualizations', '4.10 Baby_famstat_bar.png'))"
   ]
  },
  {
   "cell_type": "code",
   "execution_count": 137,
   "id": "466ce691",
   "metadata": {},
   "outputs": [],
   "source": [
    "# Export number of dependants for baby aisle consumers plot\n",
    "Bar.figure.savefig(os.path.join(path, '04 Analysis','Visualizations', '4.10 Baby_dep_bar.png'))"
   ]
  },
  {
   "cell_type": "code",
   "execution_count": 139,
   "id": "a5613a6a",
   "metadata": {},
   "outputs": [],
   "source": [
    "# Export family status of non baby consumers plot\n",
    "Bar2.figure.savefig(os.path.join(path, '04 Analysis','Visualizations', '4.10 nobaby_famstat_bar.png'))"
   ]
  },
  {
   "cell_type": "code",
   "execution_count": 140,
   "id": "82a91c98",
   "metadata": {},
   "outputs": [],
   "source": [
    "# Export gender of pet consumers plot\n",
    "Bar3.figure.savefig(os.path.join(path, '04 Analysis','Visualizations', '4.10 Pet_gender_bar.png'))"
   ]
  },
  {
   "cell_type": "code",
   "execution_count": 141,
   "id": "769866d0",
   "metadata": {},
   "outputs": [],
   "source": [
    "# Export Age Profile South Plot\n",
    "Bar5.figure.savefig(os.path.join(path, '04 Analysis','Visualizations', '4.10 AgeP_South_bar.png'))"
   ]
  },
  {
   "cell_type": "code",
   "execution_count": 142,
   "id": "98387d0e",
   "metadata": {},
   "outputs": [],
   "source": [
    "# Export Age Profile West Plot\n",
    "Bar6.figure.savefig(os.path.join(path, '04 Analysis','Visualizations', '4.10 AgeP_West_bar.png'))"
   ]
  },
  {
   "cell_type": "code",
   "execution_count": 143,
   "id": "c9139906",
   "metadata": {},
   "outputs": [],
   "source": [
    "# Export Age Profile Midwest Plot\n",
    "Bar7.figure.savefig(os.path.join(path, '04 Analysis','Visualizations', '4.10 AgeP_Midwest_bar.png'))"
   ]
  },
  {
   "cell_type": "code",
   "execution_count": 145,
   "id": "af0f3d0c",
   "metadata": {},
   "outputs": [],
   "source": [
    "# Export Age Profile Northeast Plot\n",
    "Bar8.figure.savefig(os.path.join(path, '04 Analysis','Visualizations', '4.10 AgeP_Northeast_bar.png'))"
   ]
  },
  {
   "cell_type": "code",
   "execution_count": 147,
   "id": "25231137",
   "metadata": {},
   "outputs": [],
   "source": [
    "# Export Income in each region plot\n",
    "bar13.figure.savefig(os.path.join(path, '04 Analysis','Visualizations', '4.10 Income_Region.png'))"
   ]
  },
  {
   "cell_type": "code",
   "execution_count": 148,
   "id": "a66e9c4d",
   "metadata": {},
   "outputs": [],
   "source": [
    "# Export Dependants in Each Region\n",
    "bar11.figure.savefig(os.path.join(path, '04 Analysis','Visualizations', '4.10 Dependants_Region.png'))"
   ]
  },
  {
   "cell_type": "code",
   "execution_count": 149,
   "id": "3177241f",
   "metadata": {},
   "outputs": [],
   "source": [
    "# Export Alcohol in Each Region\n",
    "bar12.figure.savefig(os.path.join(path, '04 Analysis','Visualizations', '4.10 Alcohol_Region.png'))"
   ]
  },
  {
   "cell_type": "code",
   "execution_count": 150,
   "id": "fa1e4bb7",
   "metadata": {},
   "outputs": [],
   "source": [
    "# Export Baby Consumers in each region\n",
    "bar14.figure.savefig(os.path.join(path, '04 Analysis','Visualizations', '4.10 Baby_Region.png'))"
   ]
  },
  {
   "cell_type": "code",
   "execution_count": 151,
   "id": "f3faa076",
   "metadata": {},
   "outputs": [],
   "source": [
    "# Export Pet Consumers in Each Region\n",
    "bar15.figure.savefig(os.path.join(path, '04 Analysis','Visualizations', '4.10 Pet_Region.png'))"
   ]
  },
  {
   "cell_type": "markdown",
   "id": "4bf2445d",
   "metadata": {},
   "source": [
    "# Export Final Data"
   ]
  },
  {
   "cell_type": "code",
   "execution_count": 152,
   "id": "7a709404",
   "metadata": {},
   "outputs": [],
   "source": [
    "All_Data_Active.to_pickle(os.path.join(path, '02 Data','Prepared Data', 'Final_Data_Project.pkl'))"
   ]
  },
  {
   "cell_type": "code",
   "execution_count": 7,
   "id": "b4bd5278",
   "metadata": {},
   "outputs": [
    {
     "data": {
      "text/plain": [
       "(32404859, 39)"
      ]
     },
     "execution_count": 7,
     "metadata": {},
     "output_type": "execute_result"
    }
   ],
   "source": [
    "All_data.shape"
   ]
  },
  {
   "cell_type": "code",
   "execution_count": null,
   "id": "7718800a",
   "metadata": {},
   "outputs": [],
   "source": []
  }
 ],
 "metadata": {
  "kernelspec": {
   "display_name": "Python 3 (ipykernel)",
   "language": "python",
   "name": "python3"
  },
  "language_info": {
   "codemirror_mode": {
    "name": "ipython",
    "version": 3
   },
   "file_extension": ".py",
   "mimetype": "text/x-python",
   "name": "python",
   "nbconvert_exporter": "python",
   "pygments_lexer": "ipython3",
   "version": "3.9.7"
  }
 },
 "nbformat": 4,
 "nbformat_minor": 5
}
