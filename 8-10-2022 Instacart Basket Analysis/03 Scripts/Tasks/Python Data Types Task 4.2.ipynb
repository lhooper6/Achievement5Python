{
 "cells": [
  {
   "cell_type": "markdown",
   "id": "a72d15db",
   "metadata": {},
   "source": [
    "# Importing Libraries"
   ]
  },
  {
   "cell_type": "code",
   "execution_count": 1,
   "id": "48dc6da5",
   "metadata": {},
   "outputs": [],
   "source": [
    "# import libraries\n",
    "import pandas as pd\n",
    "import numpy as np\n",
    "import os"
   ]
  },
  {
   "cell_type": "markdown",
   "id": "3e0dc363",
   "metadata": {},
   "source": [
    "# Data Types"
   ]
  },
  {
   "cell_type": "code",
   "execution_count": 2,
   "id": "54edbd91",
   "metadata": {},
   "outputs": [],
   "source": [
    "x=50\n",
    "y=50\n",
    "z=25"
   ]
  },
  {
   "cell_type": "code",
   "execution_count": 3,
   "id": "9d213404",
   "metadata": {},
   "outputs": [
    {
     "data": {
      "text/plain": [
       "100"
      ]
     },
     "execution_count": 3,
     "metadata": {},
     "output_type": "execute_result"
    }
   ],
   "source": [
    "x+y"
   ]
  },
  {
   "cell_type": "code",
   "execution_count": 4,
   "id": "393608c8",
   "metadata": {},
   "outputs": [
    {
     "data": {
      "text/plain": [
       "100"
      ]
     },
     "execution_count": 4,
     "metadata": {},
     "output_type": "execute_result"
    }
   ],
   "source": [
    "y+x"
   ]
  },
  {
   "cell_type": "code",
   "execution_count": 5,
   "id": "57be9e39",
   "metadata": {},
   "outputs": [
    {
     "data": {
      "text/plain": [
       "100"
      ]
     },
     "execution_count": 5,
     "metadata": {},
     "output_type": "execute_result"
    }
   ],
   "source": [
    "z+z+y"
   ]
  },
  {
   "cell_type": "code",
   "execution_count": 6,
   "id": "e21b8094",
   "metadata": {},
   "outputs": [],
   "source": [
    "k=5.45\n",
    "l=6.27"
   ]
  },
  {
   "cell_type": "code",
   "execution_count": 7,
   "id": "b00321dc",
   "metadata": {},
   "outputs": [
    {
     "data": {
      "text/plain": [
       "11.719999999999999"
      ]
     },
     "execution_count": 7,
     "metadata": {},
     "output_type": "execute_result"
    }
   ],
   "source": [
    "k+l"
   ]
  },
  {
   "cell_type": "code",
   "execution_count": 8,
   "id": "d4e1a0f1",
   "metadata": {},
   "outputs": [],
   "source": [
    "j='Career'\n",
    "n='Foundry'"
   ]
  },
  {
   "cell_type": "code",
   "execution_count": 9,
   "id": "e84c1dcf",
   "metadata": {},
   "outputs": [
    {
     "data": {
      "text/plain": [
       "'CareerFoundry'"
      ]
     },
     "execution_count": 9,
     "metadata": {},
     "output_type": "execute_result"
    }
   ],
   "source": [
    "j+n"
   ]
  },
  {
   "cell_type": "code",
   "execution_count": 12,
   "id": "815949bb",
   "metadata": {},
   "outputs": [],
   "source": [
    "f='I am leanring how to code. '\n",
    "d='SO far, it it not too bad.'"
   ]
  },
  {
   "cell_type": "code",
   "execution_count": 13,
   "id": "9ee334f1",
   "metadata": {},
   "outputs": [
    {
     "data": {
      "text/plain": [
       "'I am leanring how to code. SO far, it it not too bad.'"
      ]
     },
     "execution_count": 13,
     "metadata": {},
     "output_type": "execute_result"
    }
   ],
   "source": [
    "f+d"
   ]
  }
 ],
 "metadata": {
  "kernelspec": {
   "display_name": "Python 3 (ipykernel)",
   "language": "python",
   "name": "python3"
  },
  "language_info": {
   "codemirror_mode": {
    "name": "ipython",
    "version": 3
   },
   "file_extension": ".py",
   "mimetype": "text/x-python",
   "name": "python",
   "nbconvert_exporter": "python",
   "pygments_lexer": "ipython3",
   "version": "3.9.7"
  }
 },
 "nbformat": 4,
 "nbformat_minor": 5
}
